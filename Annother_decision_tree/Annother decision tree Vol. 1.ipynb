{
 "cells": [
  {
   "cell_type": "markdown",
   "metadata": {},
   "source": [
    "## Annother try to predict stock pris by decision tree\n",
    "### Vol. 1\n",
    "#### 30.06.19"
   ]
  },
  {
   "cell_type": "code",
   "execution_count": 1,
   "metadata": {},
   "outputs": [
    {
     "data": {
      "text/html": [
       "<style>svg{width:80% !important;height:80% !important;}</style>"
      ],
      "text/plain": [
       "<IPython.core.display.HTML object>"
      ]
     },
     "execution_count": 1,
     "metadata": {},
     "output_type": "execute_result"
    }
   ],
   "source": [
    "# connecting nessesary paceges\n",
    "from pandas import read_csv as read\n",
    "from pandas import DataFrame as DF\n",
    "import pandas as pd\n",
    "import numpy as np\n",
    "import matplotlib.pyplot as plt\n",
    "import seaborn as sns\n",
    "from sklearn.model_selection import GridSearchCV\n",
    "from sklearn.tree import DecisionTreeClassifier as Tree\n",
    "from sklearn.tree import export_graphviz\n",
    "from sklearn.metrics import precision_score, recall_score, roc_curve, auc\n",
    "from sklearn.model_selection import train_test_split\n",
    "from sklearn.ensemble import RandomForestClassifier\n",
    "from IPython.display import SVG\n",
    "from IPython.display import display\n",
    "from graphviz import Source\n",
    "from IPython.display import HTML\n",
    "style = \"<style>svg{width:80% !important;height:80% !important;}</style>\"\n",
    "HTML(style)"
   ]
  },
  {
   "cell_type": "code",
   "execution_count": 2,
   "metadata": {},
   "outputs": [],
   "source": [
    "# load data from github\n",
    "gazp = read('https://raw.githubusercontent.com/Aurilino/Python/master/Annother_decision_tree/GAZP.txt')\n",
    "gazp = gazp.drop(['<TICKER>', '<PER>', '<DATE>', '<TIME>'], axis=1)\n",
    "sber = read('https://raw.githubusercontent.com/Aurilino/Python/master/Annother_decision_tree/SBER.txt')\n",
    "sber = sber.drop(['<TICKER>', '<PER>', '<DATE>', '<TIME>'], axis=1)\n",
    "luko = read('https://raw.githubusercontent.com/Aurilino/Python/master/Annother_decision_tree/LKOH.txt')\n",
    "luko = luko.drop(['<TICKER>', '<PER>', '<DATE>', '<TIME>'], axis=1)"
   ]
  },
  {
   "cell_type": "code",
   "execution_count": 3,
   "metadata": {},
   "outputs": [
    {
     "data": {
      "text/html": [
       "<div>\n",
       "<style scoped>\n",
       "    .dataframe tbody tr th:only-of-type {\n",
       "        vertical-align: middle;\n",
       "    }\n",
       "\n",
       "    .dataframe tbody tr th {\n",
       "        vertical-align: top;\n",
       "    }\n",
       "\n",
       "    .dataframe thead th {\n",
       "        text-align: right;\n",
       "    }\n",
       "</style>\n",
       "<table border=\"1\" class=\"dataframe\">\n",
       "  <thead>\n",
       "    <tr style=\"text-align: right;\">\n",
       "      <th></th>\n",
       "      <th>&lt;OPEN&gt;</th>\n",
       "      <th>&lt;HIGH&gt;</th>\n",
       "      <th>&lt;LOW&gt;</th>\n",
       "      <th>&lt;CLOSE&gt;</th>\n",
       "      <th>&lt;VOL&gt;</th>\n",
       "    </tr>\n",
       "  </thead>\n",
       "  <tbody>\n",
       "    <tr>\n",
       "      <th>0</th>\n",
       "      <td>239.0</td>\n",
       "      <td>239.00</td>\n",
       "      <td>218.49</td>\n",
       "      <td>218.89</td>\n",
       "      <td>5078252</td>\n",
       "    </tr>\n",
       "    <tr>\n",
       "      <th>1</th>\n",
       "      <td>220.5</td>\n",
       "      <td>224.68</td>\n",
       "      <td>219.66</td>\n",
       "      <td>224.00</td>\n",
       "      <td>8971078</td>\n",
       "    </tr>\n",
       "    <tr>\n",
       "      <th>2</th>\n",
       "      <td>225.2</td>\n",
       "      <td>231.00</td>\n",
       "      <td>225.00</td>\n",
       "      <td>228.38</td>\n",
       "      <td>15467697</td>\n",
       "    </tr>\n",
       "    <tr>\n",
       "      <th>3</th>\n",
       "      <td>228.9</td>\n",
       "      <td>229.41</td>\n",
       "      <td>223.51</td>\n",
       "      <td>224.47</td>\n",
       "      <td>7585458</td>\n",
       "    </tr>\n",
       "    <tr>\n",
       "      <th>4</th>\n",
       "      <td>226.2</td>\n",
       "      <td>231.50</td>\n",
       "      <td>224.00</td>\n",
       "      <td>228.75</td>\n",
       "      <td>12719299</td>\n",
       "    </tr>\n",
       "  </tbody>\n",
       "</table>\n",
       "</div>"
      ],
      "text/plain": [
       "   <OPEN>  <HIGH>   <LOW>  <CLOSE>     <VOL>\n",
       "0   239.0  239.00  218.49   218.89   5078252\n",
       "1   220.5  224.68  219.66   224.00   8971078\n",
       "2   225.2  231.00  225.00   228.38  15467697\n",
       "3   228.9  229.41  223.51   224.47   7585458\n",
       "4   226.2  231.50  224.00   228.75  12719299"
      ]
     },
     "execution_count": 3,
     "metadata": {},
     "output_type": "execute_result"
    }
   ],
   "source": [
    "gazp.head()"
   ]
  },
  {
   "cell_type": "code",
   "execution_count": 4,
   "metadata": {},
   "outputs": [
    {
     "data": {
      "text/html": [
       "<div>\n",
       "<style scoped>\n",
       "    .dataframe tbody tr th:only-of-type {\n",
       "        vertical-align: middle;\n",
       "    }\n",
       "\n",
       "    .dataframe tbody tr th {\n",
       "        vertical-align: top;\n",
       "    }\n",
       "\n",
       "    .dataframe thead th {\n",
       "        text-align: right;\n",
       "    }\n",
       "</style>\n",
       "<table border=\"1\" class=\"dataframe\">\n",
       "  <thead>\n",
       "    <tr style=\"text-align: right;\">\n",
       "      <th></th>\n",
       "      <th>&lt;OPEN&gt;</th>\n",
       "      <th>&lt;HIGH&gt;</th>\n",
       "      <th>&lt;LOW&gt;</th>\n",
       "      <th>&lt;CLOSE&gt;</th>\n",
       "      <th>&lt;VOL&gt;</th>\n",
       "    </tr>\n",
       "  </thead>\n",
       "  <tbody>\n",
       "    <tr>\n",
       "      <th>0</th>\n",
       "      <td>1112.0</td>\n",
       "      <td>1185.0</td>\n",
       "      <td>1112.0</td>\n",
       "      <td>1180.0</td>\n",
       "      <td>12261</td>\n",
       "    </tr>\n",
       "    <tr>\n",
       "      <th>1</th>\n",
       "      <td>1190.0</td>\n",
       "      <td>1260.0</td>\n",
       "      <td>1166.0</td>\n",
       "      <td>1250.0</td>\n",
       "      <td>16377</td>\n",
       "    </tr>\n",
       "    <tr>\n",
       "      <th>2</th>\n",
       "      <td>1251.0</td>\n",
       "      <td>1266.0</td>\n",
       "      <td>1191.1</td>\n",
       "      <td>1211.0</td>\n",
       "      <td>30724</td>\n",
       "    </tr>\n",
       "    <tr>\n",
       "      <th>3</th>\n",
       "      <td>1200.0</td>\n",
       "      <td>1214.0</td>\n",
       "      <td>1123.0</td>\n",
       "      <td>1129.0</td>\n",
       "      <td>18110</td>\n",
       "    </tr>\n",
       "    <tr>\n",
       "      <th>4</th>\n",
       "      <td>1111.1</td>\n",
       "      <td>1188.0</td>\n",
       "      <td>1090.0</td>\n",
       "      <td>1185.0</td>\n",
       "      <td>23418</td>\n",
       "    </tr>\n",
       "  </tbody>\n",
       "</table>\n",
       "</div>"
      ],
      "text/plain": [
       "   <OPEN>  <HIGH>   <LOW>  <CLOSE>  <VOL>\n",
       "0  1112.0  1185.0  1112.0   1180.0  12261\n",
       "1  1190.0  1260.0  1166.0   1250.0  16377\n",
       "2  1251.0  1266.0  1191.1   1211.0  30724\n",
       "3  1200.0  1214.0  1123.0   1129.0  18110\n",
       "4  1111.1  1188.0  1090.0   1185.0  23418"
      ]
     },
     "execution_count": 4,
     "metadata": {},
     "output_type": "execute_result"
    }
   ],
   "source": [
    "sber.head()"
   ]
  },
  {
   "cell_type": "code",
   "execution_count": 5,
   "metadata": {},
   "outputs": [
    {
     "data": {
      "text/html": [
       "<div>\n",
       "<style scoped>\n",
       "    .dataframe tbody tr th:only-of-type {\n",
       "        vertical-align: middle;\n",
       "    }\n",
       "\n",
       "    .dataframe tbody tr th {\n",
       "        vertical-align: top;\n",
       "    }\n",
       "\n",
       "    .dataframe thead th {\n",
       "        text-align: right;\n",
       "    }\n",
       "</style>\n",
       "<table border=\"1\" class=\"dataframe\">\n",
       "  <thead>\n",
       "    <tr style=\"text-align: right;\">\n",
       "      <th></th>\n",
       "      <th>&lt;OPEN&gt;</th>\n",
       "      <th>&lt;HIGH&gt;</th>\n",
       "      <th>&lt;LOW&gt;</th>\n",
       "      <th>&lt;CLOSE&gt;</th>\n",
       "      <th>&lt;VOL&gt;</th>\n",
       "    </tr>\n",
       "  </thead>\n",
       "  <tbody>\n",
       "    <tr>\n",
       "      <th>0</th>\n",
       "      <td>390.95</td>\n",
       "      <td>400.0</td>\n",
       "      <td>385.5</td>\n",
       "      <td>397.0</td>\n",
       "      <td>93790</td>\n",
       "    </tr>\n",
       "    <tr>\n",
       "      <th>1</th>\n",
       "      <td>398.01</td>\n",
       "      <td>412.5</td>\n",
       "      <td>389.0</td>\n",
       "      <td>410.0</td>\n",
       "      <td>61148</td>\n",
       "    </tr>\n",
       "    <tr>\n",
       "      <th>2</th>\n",
       "      <td>406.00</td>\n",
       "      <td>427.0</td>\n",
       "      <td>405.0</td>\n",
       "      <td>415.0</td>\n",
       "      <td>199094</td>\n",
       "    </tr>\n",
       "    <tr>\n",
       "      <th>3</th>\n",
       "      <td>412.00</td>\n",
       "      <td>416.0</td>\n",
       "      <td>390.6</td>\n",
       "      <td>397.5</td>\n",
       "      <td>2227709</td>\n",
       "    </tr>\n",
       "    <tr>\n",
       "      <th>4</th>\n",
       "      <td>386.00</td>\n",
       "      <td>400.0</td>\n",
       "      <td>380.0</td>\n",
       "      <td>398.0</td>\n",
       "      <td>154340</td>\n",
       "    </tr>\n",
       "  </tbody>\n",
       "</table>\n",
       "</div>"
      ],
      "text/plain": [
       "   <OPEN>  <HIGH>  <LOW>  <CLOSE>    <VOL>\n",
       "0  390.95   400.0  385.5    397.0    93790\n",
       "1  398.01   412.5  389.0    410.0    61148\n",
       "2  406.00   427.0  405.0    415.0   199094\n",
       "3  412.00   416.0  390.6    397.5  2227709\n",
       "4  386.00   400.0  380.0    398.0   154340"
      ]
     },
     "execution_count": 5,
     "metadata": {},
     "output_type": "execute_result"
    }
   ],
   "source": [
    "luko.head()"
   ]
  },
  {
   "cell_type": "markdown",
   "metadata": {},
   "source": [
    "## Transform data to boolean variables"
   ]
  },
  {
   "cell_type": "code",
   "execution_count": 6,
   "metadata": {},
   "outputs": [],
   "source": [
    "gazp_bool = gazp.apply(lambda x: x - x.shift(1))\n",
    "gazp_bool = gazp_bool.applymap(lambda x: 1 if x > 0 else 0)"
   ]
  },
  {
   "cell_type": "code",
   "execution_count": 7,
   "metadata": {},
   "outputs": [],
   "source": [
    "sber_bool = sber.apply(lambda x: x - x.shift(1))\n",
    "sber_bool = sber_bool.applymap(lambda x: 1 if x > 0 else 0)"
   ]
  },
  {
   "cell_type": "code",
   "execution_count": 8,
   "metadata": {},
   "outputs": [],
   "source": [
    "luko_bool = luko.apply(lambda x: x - x.shift(1))\n",
    "luko_bool = luko_bool.applymap(lambda x: 1 if x > 0 else 0)"
   ]
  },
  {
   "cell_type": "markdown",
   "metadata": {},
   "source": [
    "## Get 1 if open price upper that yestarday close price"
   ]
  },
  {
   "cell_type": "code",
   "execution_count": 9,
   "metadata": {},
   "outputs": [],
   "source": [
    "gazp_grow = [float('nan')]\n",
    "for i in range(1,len(gazp.index)):\n",
    "    if gazp.loc[i, '<OPEN>'] > gazp.loc[i-1, '<CLOSE>']:\n",
    "        gazp_grow.append(1)\n",
    "    else:\n",
    "        gazp_grow.append(0)"
   ]
  },
  {
   "cell_type": "code",
   "execution_count": 10,
   "metadata": {},
   "outputs": [],
   "source": [
    "sber_grow = [float('nan')]\n",
    "for i in range(1,len(sber.index)):\n",
    "    if sber.loc[i, '<OPEN>'] > sber.loc[i-1, '<CLOSE>']:\n",
    "        sber_grow.append(1)\n",
    "    else:\n",
    "        sber_grow.append(0)"
   ]
  },
  {
   "cell_type": "code",
   "execution_count": 11,
   "metadata": {},
   "outputs": [],
   "source": [
    "luko_grow = [float('nan')]\n",
    "for i in range(1,len(luko.index)):\n",
    "    if luko.loc[i, '<OPEN>'] > luko.loc[i-1, '<CLOSE>']:\n",
    "        luko_grow.append(1)\n",
    "    else:\n",
    "        luko_grow.append(0)"
   ]
  },
  {
   "cell_type": "code",
   "execution_count": 12,
   "metadata": {},
   "outputs": [],
   "source": [
    "gazp_bool['grow'] = gazp_grow\n",
    "sber_bool['grow'] = sber_grow\n",
    "luko_bool['grow'] = luko_grow\n",
    "gazp_bool = gazp_bool.dropna()\n",
    "sber_bool = sber_bool.dropna()\n",
    "luko_bool = luko_bool.dropna()"
   ]
  },
  {
   "cell_type": "code",
   "execution_count": 13,
   "metadata": {},
   "outputs": [
    {
     "data": {
      "text/html": [
       "<div>\n",
       "<style scoped>\n",
       "    .dataframe tbody tr th:only-of-type {\n",
       "        vertical-align: middle;\n",
       "    }\n",
       "\n",
       "    .dataframe tbody tr th {\n",
       "        vertical-align: top;\n",
       "    }\n",
       "\n",
       "    .dataframe thead th {\n",
       "        text-align: right;\n",
       "    }\n",
       "</style>\n",
       "<table border=\"1\" class=\"dataframe\">\n",
       "  <thead>\n",
       "    <tr style=\"text-align: right;\">\n",
       "      <th></th>\n",
       "      <th>&lt;OPEN&gt;</th>\n",
       "      <th>&lt;HIGH&gt;</th>\n",
       "      <th>&lt;LOW&gt;</th>\n",
       "      <th>&lt;CLOSE&gt;</th>\n",
       "      <th>&lt;VOL&gt;</th>\n",
       "      <th>grow</th>\n",
       "    </tr>\n",
       "  </thead>\n",
       "  <tbody>\n",
       "    <tr>\n",
       "      <th>1</th>\n",
       "      <td>0</td>\n",
       "      <td>0</td>\n",
       "      <td>1</td>\n",
       "      <td>1</td>\n",
       "      <td>1</td>\n",
       "      <td>1</td>\n",
       "    </tr>\n",
       "    <tr>\n",
       "      <th>2</th>\n",
       "      <td>1</td>\n",
       "      <td>1</td>\n",
       "      <td>1</td>\n",
       "      <td>1</td>\n",
       "      <td>1</td>\n",
       "      <td>1</td>\n",
       "    </tr>\n",
       "    <tr>\n",
       "      <th>3</th>\n",
       "      <td>1</td>\n",
       "      <td>0</td>\n",
       "      <td>0</td>\n",
       "      <td>0</td>\n",
       "      <td>0</td>\n",
       "      <td>1</td>\n",
       "    </tr>\n",
       "    <tr>\n",
       "      <th>4</th>\n",
       "      <td>0</td>\n",
       "      <td>1</td>\n",
       "      <td>1</td>\n",
       "      <td>1</td>\n",
       "      <td>1</td>\n",
       "      <td>1</td>\n",
       "    </tr>\n",
       "    <tr>\n",
       "      <th>5</th>\n",
       "      <td>1</td>\n",
       "      <td>0</td>\n",
       "      <td>0</td>\n",
       "      <td>0</td>\n",
       "      <td>1</td>\n",
       "      <td>1</td>\n",
       "    </tr>\n",
       "  </tbody>\n",
       "</table>\n",
       "</div>"
      ],
      "text/plain": [
       "   <OPEN>  <HIGH>  <LOW>  <CLOSE>  <VOL>  grow\n",
       "1       0       0      1        1      1     1\n",
       "2       1       1      1        1      1     1\n",
       "3       1       0      0        0      0     1\n",
       "4       0       1      1        1      1     1\n",
       "5       1       0      0        0      1     1"
      ]
     },
     "execution_count": 13,
     "metadata": {},
     "output_type": "execute_result"
    }
   ],
   "source": [
    "gazp_bool = gazp_bool.applymap(int)\n",
    "gazp_bool.head()"
   ]
  },
  {
   "cell_type": "code",
   "execution_count": 14,
   "metadata": {},
   "outputs": [
    {
     "data": {
      "text/html": [
       "<div>\n",
       "<style scoped>\n",
       "    .dataframe tbody tr th:only-of-type {\n",
       "        vertical-align: middle;\n",
       "    }\n",
       "\n",
       "    .dataframe tbody tr th {\n",
       "        vertical-align: top;\n",
       "    }\n",
       "\n",
       "    .dataframe thead th {\n",
       "        text-align: right;\n",
       "    }\n",
       "</style>\n",
       "<table border=\"1\" class=\"dataframe\">\n",
       "  <thead>\n",
       "    <tr style=\"text-align: right;\">\n",
       "      <th></th>\n",
       "      <th>&lt;OPEN&gt;</th>\n",
       "      <th>&lt;HIGH&gt;</th>\n",
       "      <th>&lt;LOW&gt;</th>\n",
       "      <th>&lt;CLOSE&gt;</th>\n",
       "      <th>&lt;VOL&gt;</th>\n",
       "      <th>grow</th>\n",
       "    </tr>\n",
       "  </thead>\n",
       "  <tbody>\n",
       "    <tr>\n",
       "      <th>1</th>\n",
       "      <td>1</td>\n",
       "      <td>1</td>\n",
       "      <td>1</td>\n",
       "      <td>1</td>\n",
       "      <td>1</td>\n",
       "      <td>1</td>\n",
       "    </tr>\n",
       "    <tr>\n",
       "      <th>2</th>\n",
       "      <td>1</td>\n",
       "      <td>1</td>\n",
       "      <td>1</td>\n",
       "      <td>0</td>\n",
       "      <td>1</td>\n",
       "      <td>1</td>\n",
       "    </tr>\n",
       "    <tr>\n",
       "      <th>3</th>\n",
       "      <td>0</td>\n",
       "      <td>0</td>\n",
       "      <td>0</td>\n",
       "      <td>0</td>\n",
       "      <td>0</td>\n",
       "      <td>0</td>\n",
       "    </tr>\n",
       "    <tr>\n",
       "      <th>4</th>\n",
       "      <td>0</td>\n",
       "      <td>0</td>\n",
       "      <td>0</td>\n",
       "      <td>1</td>\n",
       "      <td>1</td>\n",
       "      <td>0</td>\n",
       "    </tr>\n",
       "    <tr>\n",
       "      <th>5</th>\n",
       "      <td>1</td>\n",
       "      <td>1</td>\n",
       "      <td>1</td>\n",
       "      <td>1</td>\n",
       "      <td>0</td>\n",
       "      <td>1</td>\n",
       "    </tr>\n",
       "  </tbody>\n",
       "</table>\n",
       "</div>"
      ],
      "text/plain": [
       "   <OPEN>  <HIGH>  <LOW>  <CLOSE>  <VOL>  grow\n",
       "1       1       1      1        1      1     1\n",
       "2       1       1      1        0      1     1\n",
       "3       0       0      0        0      0     0\n",
       "4       0       0      0        1      1     0\n",
       "5       1       1      1        1      0     1"
      ]
     },
     "execution_count": 14,
     "metadata": {},
     "output_type": "execute_result"
    }
   ],
   "source": [
    "sber_bool = sber_bool.applymap(int)\n",
    "sber_bool.head()"
   ]
  },
  {
   "cell_type": "code",
   "execution_count": 15,
   "metadata": {},
   "outputs": [
    {
     "data": {
      "text/html": [
       "<div>\n",
       "<style scoped>\n",
       "    .dataframe tbody tr th:only-of-type {\n",
       "        vertical-align: middle;\n",
       "    }\n",
       "\n",
       "    .dataframe tbody tr th {\n",
       "        vertical-align: top;\n",
       "    }\n",
       "\n",
       "    .dataframe thead th {\n",
       "        text-align: right;\n",
       "    }\n",
       "</style>\n",
       "<table border=\"1\" class=\"dataframe\">\n",
       "  <thead>\n",
       "    <tr style=\"text-align: right;\">\n",
       "      <th></th>\n",
       "      <th>&lt;OPEN&gt;</th>\n",
       "      <th>&lt;HIGH&gt;</th>\n",
       "      <th>&lt;LOW&gt;</th>\n",
       "      <th>&lt;CLOSE&gt;</th>\n",
       "      <th>&lt;VOL&gt;</th>\n",
       "      <th>grow</th>\n",
       "    </tr>\n",
       "  </thead>\n",
       "  <tbody>\n",
       "    <tr>\n",
       "      <th>1</th>\n",
       "      <td>1</td>\n",
       "      <td>1</td>\n",
       "      <td>1</td>\n",
       "      <td>1</td>\n",
       "      <td>0</td>\n",
       "      <td>1</td>\n",
       "    </tr>\n",
       "    <tr>\n",
       "      <th>2</th>\n",
       "      <td>1</td>\n",
       "      <td>1</td>\n",
       "      <td>1</td>\n",
       "      <td>1</td>\n",
       "      <td>1</td>\n",
       "      <td>0</td>\n",
       "    </tr>\n",
       "    <tr>\n",
       "      <th>3</th>\n",
       "      <td>1</td>\n",
       "      <td>0</td>\n",
       "      <td>0</td>\n",
       "      <td>0</td>\n",
       "      <td>1</td>\n",
       "      <td>0</td>\n",
       "    </tr>\n",
       "    <tr>\n",
       "      <th>4</th>\n",
       "      <td>0</td>\n",
       "      <td>0</td>\n",
       "      <td>0</td>\n",
       "      <td>1</td>\n",
       "      <td>0</td>\n",
       "      <td>0</td>\n",
       "    </tr>\n",
       "    <tr>\n",
       "      <th>5</th>\n",
       "      <td>1</td>\n",
       "      <td>1</td>\n",
       "      <td>1</td>\n",
       "      <td>1</td>\n",
       "      <td>0</td>\n",
       "      <td>1</td>\n",
       "    </tr>\n",
       "  </tbody>\n",
       "</table>\n",
       "</div>"
      ],
      "text/plain": [
       "   <OPEN>  <HIGH>  <LOW>  <CLOSE>  <VOL>  grow\n",
       "1       1       1      1        1      0     1\n",
       "2       1       1      1        1      1     0\n",
       "3       1       0      0        0      1     0\n",
       "4       0       0      0        1      0     0\n",
       "5       1       1      1        1      0     1"
      ]
     },
     "execution_count": 15,
     "metadata": {},
     "output_type": "execute_result"
    }
   ],
   "source": [
    "luko_bool = luko_bool.applymap(int)\n",
    "luko_bool.head()"
   ]
  },
  {
   "cell_type": "code",
   "execution_count": 16,
   "metadata": {},
   "outputs": [
    {
     "data": {
      "text/plain": [
       "0.6519337016574586"
      ]
     },
     "execution_count": 16,
     "metadata": {},
     "output_type": "execute_result"
    }
   ],
   "source": [
    "gazp_result = DF()\n",
    "clf = Tree(criterion='entropy')\n",
    "step = 100\n",
    "start = 0\n",
    "finish = start + step\n",
    "calc = []\n",
    "fact = []\n",
    "while finish < len(gazp_bool):\n",
    "    train = gazp_bool.iloc[start:finish, :]\n",
    "    x_train = train.drop('grow', axis=1)\n",
    "    y_train = train.grow\n",
    "    clf.fit(x_train, y_train)\n",
    "    test = DF(gazp_bool.iloc[finish, :]).T\n",
    "    x_test = test.drop('grow', axis=1)\n",
    "    y_test = test.grow\n",
    "    calc.append(int(clf.predict(x_test)))\n",
    "    fact.append(int(y_test))\n",
    "    finish += 1\n",
    "    start += 1\n",
    "gazp_result['predict'] = calc\n",
    "gazp_result['fact'] = fact\n",
    "gazp_result['hits'] = gazp_result['predict'] == gazp_result['fact']\n",
    "gazp_result.hits.sum() / len(gazp_result)"
   ]
  },
  {
   "cell_type": "code",
   "execution_count": 17,
   "metadata": {},
   "outputs": [
    {
     "data": {
      "text/plain": [
       "0.6637282304880671"
      ]
     },
     "execution_count": 17,
     "metadata": {},
     "output_type": "execute_result"
    }
   ],
   "source": [
    "sber_result = DF()\n",
    "clf = Tree(criterion='entropy')\n",
    "step = 100\n",
    "start = 0\n",
    "finish = start + step\n",
    "calc = []\n",
    "fact = []\n",
    "while finish < len(sber_bool):\n",
    "    train = sber_bool.iloc[start:finish, :]\n",
    "    x_train = train.drop('grow', axis=1)\n",
    "    y_train = train.grow\n",
    "    clf.fit(x_train, y_train)\n",
    "    test = DF(sber_bool.iloc[finish, :]).T\n",
    "    x_test = test.drop('grow', axis=1)\n",
    "    y_test = test.grow\n",
    "    calc.append(int(clf.predict(x_test)))\n",
    "    fact.append(int(y_test))\n",
    "    finish += 1\n",
    "    start += 1\n",
    "sber_result['predict'] = calc\n",
    "sber_result['fact'] = fact\n",
    "sber_result['hits'] = sber_result['predict'] == sber_result['fact']\n",
    "sber_result.hits.sum() / len(sber_result)"
   ]
  },
  {
   "cell_type": "code",
   "execution_count": 18,
   "metadata": {},
   "outputs": [
    {
     "data": {
      "text/plain": [
       "0.621059403817285"
      ]
     },
     "execution_count": 18,
     "metadata": {},
     "output_type": "execute_result"
    }
   ],
   "source": [
    "luko_result = DF()\n",
    "clf = Tree(criterion='entropy')\n",
    "step = 100\n",
    "start = 0\n",
    "finish = start + step\n",
    "calc = []\n",
    "fact = []\n",
    "while finish < len(luko_bool):\n",
    "    train = luko_bool.iloc[start:finish, :]\n",
    "    x_train = train.drop('grow', axis=1)\n",
    "    y_train = train.grow\n",
    "    clf.fit(x_train, y_train)\n",
    "    test = DF(luko_bool.iloc[finish, :]).T\n",
    "    x_test = test.drop('grow', axis=1)\n",
    "    y_test = test.grow\n",
    "    calc.append(int(clf.predict(x_test)))\n",
    "    fact.append(int(y_test))\n",
    "    finish += 1\n",
    "    start += 1\n",
    "luko_result['predict'] = calc\n",
    "luko_result['fact'] = fact\n",
    "luko_result['hits'] = luko_result['predict'] == luko_result['fact']\n",
    "luko_result.hits.sum() / len(luko_result)"
   ]
  },
  {
   "cell_type": "markdown",
   "metadata": {},
   "source": [
    "## As we can see, the probability of getting a little more than 60%. Let's try to look at the probability of hitting the strategy, taking into account the excess of the opening of today over the closing of the previous one"
   ]
  },
  {
   "cell_type": "code",
   "execution_count": 19,
   "metadata": {},
   "outputs": [
    {
     "data": {
      "text/plain": [
       "0.6668505239933812"
      ]
     },
     "execution_count": 19,
     "metadata": {},
     "output_type": "execute_result"
    }
   ],
   "source": [
    "gazp_result[gazp_result.fact > 0].hits.sum() / len(gazp_result[gazp_result.fact > 0])"
   ]
  },
  {
   "cell_type": "code",
   "execution_count": 20,
   "metadata": {},
   "outputs": [
    {
     "data": {
      "text/plain": [
       "0.6715553840216133"
      ]
     },
     "execution_count": 20,
     "metadata": {},
     "output_type": "execute_result"
    }
   ],
   "source": [
    "sber_result[sber_result.fact > 0].hits.sum() / len(sber_result[sber_result.fact > 0])"
   ]
  },
  {
   "cell_type": "code",
   "execution_count": 21,
   "metadata": {},
   "outputs": [
    {
     "data": {
      "text/plain": [
       "0.6186174391201885"
      ]
     },
     "execution_count": 21,
     "metadata": {},
     "output_type": "execute_result"
    }
   ],
   "source": [
    "luko_result[luko_result.fact > 0].hits.sum() / len(luko_result[luko_result.fact > 0])"
   ]
  },
  {
   "cell_type": "markdown",
   "metadata": {},
   "source": [
    "## The chances of getting hit have not changed.\n",
    "## Let's test the strategy on data with a frame of 1 min"
   ]
  },
  {
   "cell_type": "code",
   "execution_count": 23,
   "metadata": {},
   "outputs": [],
   "source": [
    "# load data from github\n",
    "gazp = read('https://raw.githubusercontent.com/Aurilino/Python/master/Annother_decision_tree/GAZP_min.txt')\n",
    "gazp = gazp.drop(['<TICKER>', '<PER>', '<DATE>', '<TIME>'], axis=1)\n",
    "sber = read('https://raw.githubusercontent.com/Aurilino/Python/master/Annother_decision_tree/SBER_min.txt')\n",
    "sber = sber.drop(['<TICKER>', '<PER>', '<DATE>', '<TIME>'], axis=1)\n",
    "luko = read('https://raw.githubusercontent.com/Aurilino/Python/master/Annother_decision_tree/LKOH_min.txt')\n",
    "luko = luko.drop(['<TICKER>', '<PER>', '<DATE>', '<TIME>'], axis=1)"
   ]
  },
  {
   "cell_type": "code",
   "execution_count": 24,
   "metadata": {},
   "outputs": [],
   "source": [
    "luko_bool = luko.apply(lambda x: x - x.shift(1))\n",
    "luko_bool = luko_bool.applymap(lambda x: 1 if x > 0 else 0)\n",
    "gazp_bool = gazp.apply(lambda x: x - x.shift(1))\n",
    "gazp_bool = gazp_bool.applymap(lambda x: 1 if x > 0 else 0)\n",
    "sber_bool = sber.apply(lambda x: x - x.shift(1))\n",
    "sber_bool = sber_bool.applymap(lambda x: 1 if x > 0 else 0)"
   ]
  },
  {
   "cell_type": "code",
   "execution_count": 25,
   "metadata": {},
   "outputs": [],
   "source": [
    "gazp_grow = [float('nan')]\n",
    "for i in range(1,len(gazp.index)):\n",
    "    if gazp.loc[i, '<OPEN>'] > gazp.loc[i-1, '<CLOSE>']:\n",
    "        gazp_grow.append(1)\n",
    "    else:\n",
    "        gazp_grow.append(0)\n",
    "sber_grow = [float('nan')]\n",
    "for i in range(1,len(sber.index)):\n",
    "    if sber.loc[i, '<OPEN>'] > sber.loc[i-1, '<CLOSE>']:\n",
    "        sber_grow.append(1)\n",
    "    else:\n",
    "        sber_grow.append(0)\n",
    "luko_grow = [float('nan')]\n",
    "for i in range(1,len(luko.index)):\n",
    "    if luko.loc[i, '<OPEN>'] > luko.loc[i-1, '<CLOSE>']:\n",
    "        luko_grow.append(1)\n",
    "    else:\n",
    "        luko_grow.append(0)"
   ]
  },
  {
   "cell_type": "code",
   "execution_count": 26,
   "metadata": {},
   "outputs": [],
   "source": [
    "gazp_bool['grow'] = gazp_grow\n",
    "sber_bool['grow'] = sber_grow\n",
    "luko_bool['grow'] = luko_grow\n",
    "gazp_bool = gazp_bool.dropna()\n",
    "sber_bool = sber_bool.dropna()\n",
    "luko_bool = luko_bool.dropna()\n",
    "gazp_bool = gazp_bool.applymap(int)\n",
    "sber_bool = sber_bool.applymap(int)\n",
    "luko_bool = luko_bool.applymap(int)"
   ]
  },
  {
   "cell_type": "code",
   "execution_count": 27,
   "metadata": {},
   "outputs": [
    {
     "data": {
      "text/plain": [
       "0.66390631125049"
      ]
     },
     "execution_count": 27,
     "metadata": {},
     "output_type": "execute_result"
    }
   ],
   "source": [
    "gazp_result = DF()\n",
    "clf = Tree(criterion='entropy')\n",
    "step = 100\n",
    "start = 0\n",
    "finish = start + step\n",
    "calc = []\n",
    "fact = []\n",
    "while finish < len(gazp_bool):\n",
    "    train = gazp_bool.iloc[start:finish, :]\n",
    "    x_train = train.drop('grow', axis=1)\n",
    "    y_train = train.grow\n",
    "    clf.fit(x_train, y_train)\n",
    "    test = DF(gazp_bool.iloc[finish, :]).T\n",
    "    x_test = test.drop('grow', axis=1)\n",
    "    y_test = test.grow\n",
    "    calc.append(int(clf.predict(x_test)))\n",
    "    fact.append(int(y_test))\n",
    "    finish += 1\n",
    "    start += 1\n",
    "gazp_result['predict'] = calc\n",
    "gazp_result['fact'] = fact\n",
    "gazp_result['hits'] = gazp_result['predict'] == gazp_result['fact']\n",
    "gazp_result.hits.sum() / len(gazp_result)"
   ]
  },
  {
   "cell_type": "code",
   "execution_count": 28,
   "metadata": {},
   "outputs": [
    {
     "data": {
      "text/plain": [
       "0.6421208859314349"
      ]
     },
     "execution_count": 28,
     "metadata": {},
     "output_type": "execute_result"
    }
   ],
   "source": [
    "sber_result = DF()\n",
    "clf = Tree(criterion='entropy')\n",
    "step = 100\n",
    "start = 0\n",
    "finish = start + step\n",
    "calc = []\n",
    "fact = []\n",
    "while finish < len(sber_bool):\n",
    "    train = sber_bool.iloc[start:finish, :]\n",
    "    x_train = train.drop('grow', axis=1)\n",
    "    y_train = train.grow\n",
    "    clf.fit(x_train, y_train)\n",
    "    test = DF(sber_bool.iloc[finish, :]).T\n",
    "    x_test = test.drop('grow', axis=1)\n",
    "    y_test = test.grow\n",
    "    calc.append(int(clf.predict(x_test)))\n",
    "    fact.append(int(y_test))\n",
    "    finish += 1\n",
    "    start += 1\n",
    "sber_result['predict'] = calc\n",
    "sber_result['fact'] = fact\n",
    "sber_result['hits'] = sber_result['predict'] == sber_result['fact']\n",
    "sber_result.hits.sum() / len(sber_result)"
   ]
  },
  {
   "cell_type": "code",
   "execution_count": 29,
   "metadata": {},
   "outputs": [
    {
     "data": {
      "text/plain": [
       "0.7035676637238107"
      ]
     },
     "execution_count": 29,
     "metadata": {},
     "output_type": "execute_result"
    }
   ],
   "source": [
    "luko_result = DF()\n",
    "clf = Tree(criterion='entropy')\n",
    "step = 100\n",
    "start = 0\n",
    "finish = start + step\n",
    "calc = []\n",
    "fact = []\n",
    "while finish < len(luko_bool):\n",
    "    train = luko_bool.iloc[start:finish, :]\n",
    "    x_train = train.drop('grow', axis=1)\n",
    "    y_train = train.grow\n",
    "    clf.fit(x_train, y_train)\n",
    "    test = DF(luko_bool.iloc[finish, :]).T\n",
    "    x_test = test.drop('grow', axis=1)\n",
    "    y_test = test.grow\n",
    "    calc.append(int(clf.predict(x_test)))\n",
    "    fact.append(int(y_test))\n",
    "    finish += 1\n",
    "    start += 1\n",
    "luko_result['predict'] = calc\n",
    "luko_result['fact'] = fact\n",
    "luko_result['hits'] = luko_result['predict'] == luko_result['fact']\n",
    "luko_result.hits.sum() / len(luko_result)"
   ]
  },
  {
   "cell_type": "code",
   "execution_count": 30,
   "metadata": {},
   "outputs": [
    {
     "name": "stdout",
     "output_type": "stream",
     "text": [
      "0.2840765617898086\n",
      "0.21695974202650276\n",
      "0.4213914335231493\n"
     ]
    }
   ],
   "source": [
    "print(gazp_result[gazp_result.fact > 0].hits.sum() / len(gazp_result[gazp_result.fact > 0]))\n",
    "print(sber_result[sber_result.fact > 0].hits.sum() / len(sber_result[sber_result.fact > 0]))\n",
    "print(luko_result[luko_result.fact > 0].hits.sum() / len(luko_result[luko_result.fact > 0]))"
   ]
  },
  {
   "cell_type": "markdown",
   "metadata": {},
   "source": [
    "## As we can see, chance to hit consist 28-42% with the opening of today over the closing of the previous one"
   ]
  },
  {
   "cell_type": "markdown",
   "metadata": {},
   "source": [
    "## Remove the lower limit for tree training"
   ]
  },
  {
   "cell_type": "code",
   "execution_count": 31,
   "metadata": {},
   "outputs": [
    {
     "data": {
      "text/plain": [
       "0.6932412125963674"
      ]
     },
     "execution_count": 31,
     "metadata": {},
     "output_type": "execute_result"
    }
   ],
   "source": [
    "gazp_result = DF()\n",
    "clf = Tree(criterion='entropy')\n",
    "step = 100\n",
    "start = 0\n",
    "finish = start + step\n",
    "calc = []\n",
    "fact = []\n",
    "while finish < len(gazp_bool):\n",
    "    train = gazp_bool.iloc[:finish, :]\n",
    "    x_train = train.drop('grow', axis=1)\n",
    "    y_train = train.grow\n",
    "    clf.fit(x_train, y_train)\n",
    "    test = DF(gazp_bool.iloc[finish, :]).T\n",
    "    x_test = test.drop('grow', axis=1)\n",
    "    y_test = test.grow\n",
    "    calc.append(int(clf.predict(x_test)))\n",
    "    fact.append(int(y_test))\n",
    "    finish += 1\n",
    "    start += 1\n",
    "gazp_result['predict'] = calc\n",
    "gazp_result['fact'] = fact\n",
    "gazp_result['hits'] = gazp_result['predict'] == gazp_result['fact']\n",
    "gazp_result.hits.sum() / len(gazp_result)"
   ]
  },
  {
   "cell_type": "code",
   "execution_count": null,
   "metadata": {},
   "outputs": [
    {
     "data": {
      "text/plain": [
       "0.678637831490361"
      ]
     },
     "execution_count": 32,
     "metadata": {},
     "output_type": "execute_result"
    }
   ],
   "source": [
    "sber_result = DF()\n",
    "clf = Tree(criterion='entropy')\n",
    "step = 100\n",
    "start = 0\n",
    "finish = start + step\n",
    "calc = []\n",
    "fact = []\n",
    "while finish < len(sber_bool):\n",
    "    train = sber_bool.iloc[:finish, :]\n",
    "    x_train = train.drop('grow', axis=1)\n",
    "    y_train = train.grow\n",
    "    clf.fit(x_train, y_train)\n",
    "    test = DF(sber_bool.iloc[finish, :]).T\n",
    "    x_test = test.drop('grow', axis=1)\n",
    "    y_test = test.grow\n",
    "    calc.append(int(clf.predict(x_test)))\n",
    "    fact.append(int(y_test))\n",
    "    finish += 1\n",
    "    start += 1\n",
    "sber_result['predict'] = calc\n",
    "sber_result['fact'] = fact\n",
    "sber_result['hits'] = sber_result['predict'] == sber_result['fact']\n",
    "sber_result.hits.sum() / len(sber_result)"
   ]
  },
  {
   "cell_type": "code",
   "execution_count": null,
   "metadata": {},
   "outputs": [],
   "source": [
    "luko_result = DF()\n",
    "clf = Tree(criterion='entropy')\n",
    "step = 100\n",
    "start = 0\n",
    "finish = start + step\n",
    "calc = []\n",
    "fact = []\n",
    "while finish < len(luko_bool):\n",
    "    train = luko_bool.iloc[:finish, :]\n",
    "    x_train = train.drop('grow', axis=1)\n",
    "    y_train = train.grow\n",
    "    clf.fit(x_train, y_train)\n",
    "    test = DF(luko_bool.iloc[finish, :]).T\n",
    "    x_test = test.drop('grow', axis=1)\n",
    "    y_test = test.grow\n",
    "    calc.append(int(clf.predict(x_test)))\n",
    "    fact.append(int(y_test))\n",
    "    finish += 1\n",
    "    start += 1\n",
    "luko_result['predict'] = calc\n",
    "luko_result['fact'] = fact\n",
    "luko_result['hits'] = luko_result['predict'] == luko_result['fact']\n",
    "luko_result.hits.sum() / len(luko_result)"
   ]
  },
  {
   "cell_type": "code",
   "execution_count": null,
   "metadata": {},
   "outputs": [],
   "source": [
    "print(gazp_result[gazp_result.fact > 0].hits.sum() / len(gazp_result[gazp_result.fact > 0]))\n",
    "print(sber_result[sber_result.fact > 0].hits.sum() / len(sber_result[sber_result.fact > 0]))\n",
    "print(luko_result[luko_result.fact > 0].hits.sum() / len(luko_result[luko_result.fact > 0]))"
   ]
  },
  {
   "cell_type": "markdown",
   "metadata": {},
   "source": [
    "## The results have improved slightly"
   ]
  },
  {
   "cell_type": "markdown",
   "metadata": {},
   "source": [
    "## Summary"
   ]
  },
  {
   "cell_type": "markdown",
   "metadata": {},
   "source": [
    "### Prediction probabilities of exceeding prices open above the previous closing prices to an average of 60-70%"
   ]
  },
  {
   "cell_type": "markdown",
   "metadata": {},
   "source": [
    "# In the next part will try to make a portfolio based on the relationship of the results of predictions"
   ]
  }
 ],
 "metadata": {
  "kernelspec": {
   "display_name": "Python 3",
   "language": "python",
   "name": "python3"
  },
  "language_info": {
   "codemirror_mode": {
    "name": "ipython",
    "version": 3
   },
   "file_extension": ".py",
   "mimetype": "text/x-python",
   "name": "python",
   "nbconvert_exporter": "python",
   "pygments_lexer": "ipython3",
   "version": "3.7.2"
  }
 },
 "nbformat": 4,
 "nbformat_minor": 2
}
