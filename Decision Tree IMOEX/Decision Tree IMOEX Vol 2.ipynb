{
 "cells": [
  {
   "cell_type": "markdown",
   "metadata": {},
   "source": [
    "## Use Decision Tree for forcast IMOEX price\n",
    "### Vol 2\n",
    "#### 13.06.19"
   ]
  },
  {
   "cell_type": "code",
   "execution_count": 1,
   "metadata": {},
   "outputs": [
    {
     "data": {
      "text/html": [
       "<style>svg{width:80% !important;height:80% !important;}</style>"
      ],
      "text/plain": [
       "<IPython.core.display.HTML object>"
      ]
     },
     "execution_count": 1,
     "metadata": {},
     "output_type": "execute_result"
    }
   ],
   "source": [
    "# connecting nessesary paceges\n",
    "from pandas import read_csv as read\n",
    "from pandas import DataFrame as DF\n",
    "import pandas as pd\n",
    "import numpy as np\n",
    "import matplotlib.pyplot as plt\n",
    "import seaborn as sns\n",
    "from sklearn.model_selection import GridSearchCV\n",
    "from sklearn.tree import DecisionTreeClassifier\n",
    "from sklearn.tree import export_graphviz\n",
    "from sklearn.metrics import precision_score, recall_score, roc_curve, auc\n",
    "from sklearn.model_selection import train_test_split\n",
    "from sklearn.ensemble import RandomForestClassifier\n",
    "from IPython.display import SVG\n",
    "from IPython.display import display\n",
    "from graphviz import Source\n",
    "from IPython.display import HTML\n",
    "style = \"<style>svg{width:80% !important;height:80% !important;}</style>\"\n",
    "HTML(style)"
   ]
  },
  {
   "cell_type": "code",
   "execution_count": 2,
   "metadata": {},
   "outputs": [
    {
     "data": {
      "text/html": [
       "<div>\n",
       "<style scoped>\n",
       "    .dataframe tbody tr th:only-of-type {\n",
       "        vertical-align: middle;\n",
       "    }\n",
       "\n",
       "    .dataframe tbody tr th {\n",
       "        vertical-align: top;\n",
       "    }\n",
       "\n",
       "    .dataframe thead th {\n",
       "        text-align: right;\n",
       "    }\n",
       "</style>\n",
       "<table border=\"1\" class=\"dataframe\">\n",
       "  <thead>\n",
       "    <tr style=\"text-align: right;\">\n",
       "      <th></th>\n",
       "      <th>LKOH</th>\n",
       "      <th>SBER</th>\n",
       "      <th>GAZP</th>\n",
       "      <th>NVTK</th>\n",
       "      <th>MOEX_1</th>\n",
       "    </tr>\n",
       "  </thead>\n",
       "  <tbody>\n",
       "    <tr>\n",
       "      <th>0</th>\n",
       "      <td>5169.0</td>\n",
       "      <td>234.22</td>\n",
       "      <td>235.34</td>\n",
       "      <td>1306.4</td>\n",
       "      <td>0</td>\n",
       "    </tr>\n",
       "    <tr>\n",
       "      <th>1</th>\n",
       "      <td>5168.0</td>\n",
       "      <td>234.25</td>\n",
       "      <td>235.40</td>\n",
       "      <td>1306.4</td>\n",
       "      <td>1</td>\n",
       "    </tr>\n",
       "    <tr>\n",
       "      <th>2</th>\n",
       "      <td>5170.5</td>\n",
       "      <td>234.31</td>\n",
       "      <td>235.67</td>\n",
       "      <td>1306.6</td>\n",
       "      <td>0</td>\n",
       "    </tr>\n",
       "    <tr>\n",
       "      <th>3</th>\n",
       "      <td>5171.5</td>\n",
       "      <td>234.40</td>\n",
       "      <td>235.65</td>\n",
       "      <td>1306.6</td>\n",
       "      <td>0</td>\n",
       "    </tr>\n",
       "    <tr>\n",
       "      <th>4</th>\n",
       "      <td>5171.5</td>\n",
       "      <td>234.28</td>\n",
       "      <td>235.56</td>\n",
       "      <td>1306.6</td>\n",
       "      <td>0</td>\n",
       "    </tr>\n",
       "  </tbody>\n",
       "</table>\n",
       "</div>"
      ],
      "text/plain": [
       "     LKOH    SBER    GAZP    NVTK  MOEX_1\n",
       "0  5169.0  234.22  235.34  1306.4       0\n",
       "1  5168.0  234.25  235.40  1306.4       1\n",
       "2  5170.5  234.31  235.67  1306.6       0\n",
       "3  5171.5  234.40  235.65  1306.6       0\n",
       "4  5171.5  234.28  235.56  1306.6       0"
      ]
     },
     "execution_count": 2,
     "metadata": {},
     "output_type": "execute_result"
    }
   ],
   "source": [
    "# In this part used decision tree in dynamic\n",
    "# Used time frame 10 sec\n",
    "data = read('https://raw.githubusercontent.com/Aurilino/Python/master/Decision%20Tree%20IMOEX/IMOEX_10_sec.txt')\n",
    "data.index = range(len(data))\n",
    "data['MOEX_1'] = data.MOEX.shift(-1) # let's try to predict one step forvard\n",
    "data['MOEX_1'] = DF(data['MOEX_1']).apply(lambda x: np.log(x) - np.log(x).shift(1))\n",
    "data['MOEX_1'] = data['MOEX_1'].apply(lambda x: 1 if x > 0 else 0)\n",
    "data = data.drop(['Time', 'MOEX'], axis=1)\n",
    "data.dropna(inplace=True)\n",
    "data.head()"
   ]
  },
  {
   "cell_type": "markdown",
   "metadata": {},
   "source": [
    "### Use decision tree in dynamics\n",
    "#### Try to predict for up one step forward "
   ]
  },
  {
   "cell_type": "code",
   "execution_count": 3,
   "metadata": {},
   "outputs": [
    {
     "name": "stdout",
     "output_type": "stream",
     "text": [
      "Share of mistakes: 20.26%\n"
     ]
    }
   ],
   "source": [
    "step = 100\n",
    "clf = DecisionTreeClassifier(criterion='entropy', max_depth=3)\n",
    "start = 0\n",
    "finish = start + step\n",
    "result = list(data.MOEX_1)[:finish+2]\n",
    "while finish <= len(data)-3:\n",
    "    train = data.iloc[start:finish, :]\n",
    "    x = train.drop('MOEX_1', axis=1)\n",
    "    y = train.MOEX_1\n",
    "    clf.fit(x, y)\n",
    "    x_test = data.iloc[finish+1:finish+2, :].drop('MOEX_1',axis=1)\n",
    "    result.append(int(clf.predict(x_test)))\n",
    "    start += 1\n",
    "    finish += 1\n",
    "data['MOEX_pred'] = result\n",
    "# get share of mistakes\n",
    "data['diff'] = abs(data.MOEX_1 - data.MOEX_pred)\n",
    "print('Share of mistakes: ', round(data['diff'].sum() / len(data['diff']) * 100, 2), '%',sep='')"
   ]
  },
  {
   "cell_type": "markdown",
   "metadata": {},
   "source": [
    "## Summary\n",
    "### As we can see, use strategy with use decision tree, we can predict near 80% future behavior of index IMOEX."
   ]
  }
 ],
 "metadata": {
  "kernelspec": {
   "display_name": "Python 3",
   "language": "python",
   "name": "python3"
  },
  "language_info": {
   "codemirror_mode": {
    "name": "ipython",
    "version": 3
   },
   "file_extension": ".py",
   "mimetype": "text/x-python",
   "name": "python",
   "nbconvert_exporter": "python",
   "pygments_lexer": "ipython3",
   "version": "3.7.2"
  }
 },
 "nbformat": 4,
 "nbformat_minor": 2
}
