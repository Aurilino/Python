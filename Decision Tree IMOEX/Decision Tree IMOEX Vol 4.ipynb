{
 "cells": [
  {
   "cell_type": "markdown",
   "metadata": {},
   "source": [
    "## Use Decision Tree for forcast IMOEX price\n",
    "### Vol 4\n",
    "#### 17.06.19"
   ]
  },
  {
   "cell_type": "code",
   "execution_count": 1,
   "metadata": {},
   "outputs": [
    {
     "data": {
      "text/html": [
       "<style>svg{width:80% !important;height:80% !important;}</style>"
      ],
      "text/plain": [
       "<IPython.core.display.HTML object>"
      ]
     },
     "execution_count": 1,
     "metadata": {},
     "output_type": "execute_result"
    }
   ],
   "source": [
    "# connecting nessesary paceges\n",
    "from pandas import read_csv as read\n",
    "from pandas import DataFrame as DF\n",
    "import pandas as pd\n",
    "import numpy as np\n",
    "import matplotlib.pyplot as plt\n",
    "import seaborn as sns\n",
    "from sklearn.model_selection import GridSearchCV\n",
    "from sklearn.tree import DecisionTreeClassifier\n",
    "from sklearn.tree import export_graphviz\n",
    "from sklearn.metrics import precision_score, recall_score, roc_curve, auc\n",
    "from sklearn.model_selection import train_test_split\n",
    "from sklearn.ensemble import RandomForestClassifier\n",
    "from IPython.display import SVG\n",
    "from IPython.display import display\n",
    "from graphviz import Source\n",
    "from IPython.display import HTML\n",
    "style = \"<style>svg{width:80% !important;height:80% !important;}</style>\"\n",
    "HTML(style)"
   ]
  },
  {
   "cell_type": "code",
   "execution_count": 2,
   "metadata": {},
   "outputs": [
    {
     "name": "stderr",
     "output_type": "stream",
     "text": [
      "c:\\python37-32\\lib\\site-packages\\ipykernel_launcher.py:6: RuntimeWarning: divide by zero encountered in log\n",
      "  \n"
     ]
    },
    {
     "data": {
      "text/html": [
       "<div>\n",
       "<style scoped>\n",
       "    .dataframe tbody tr th:only-of-type {\n",
       "        vertical-align: middle;\n",
       "    }\n",
       "\n",
       "    .dataframe tbody tr th {\n",
       "        vertical-align: top;\n",
       "    }\n",
       "\n",
       "    .dataframe thead th {\n",
       "        text-align: right;\n",
       "    }\n",
       "</style>\n",
       "<table border=\"1\" class=\"dataframe\">\n",
       "  <thead>\n",
       "    <tr style=\"text-align: right;\">\n",
       "      <th></th>\n",
       "      <th>LKOH</th>\n",
       "      <th>SBER</th>\n",
       "      <th>GAZP</th>\n",
       "      <th>NVTK</th>\n",
       "      <th>GMKN</th>\n",
       "      <th>ROSN</th>\n",
       "      <th>YNDX</th>\n",
       "      <th>TATN</th>\n",
       "      <th>SNGSP</th>\n",
       "      <th>MOEX_1</th>\n",
       "    </tr>\n",
       "  </thead>\n",
       "  <tbody>\n",
       "    <tr>\n",
       "      <th>1</th>\n",
       "      <td>5194.5</td>\n",
       "      <td>241.11</td>\n",
       "      <td>234.15</td>\n",
       "      <td>1308.4</td>\n",
       "      <td>14600.0</td>\n",
       "      <td>415.85</td>\n",
       "      <td>2483.4</td>\n",
       "      <td>765.6</td>\n",
       "      <td>41.165</td>\n",
       "      <td>1</td>\n",
       "    </tr>\n",
       "    <tr>\n",
       "      <th>2</th>\n",
       "      <td>5199.0</td>\n",
       "      <td>241.20</td>\n",
       "      <td>234.42</td>\n",
       "      <td>1312.6</td>\n",
       "      <td>14590.0</td>\n",
       "      <td>416.45</td>\n",
       "      <td>2482.8</td>\n",
       "      <td>767.8</td>\n",
       "      <td>41.150</td>\n",
       "      <td>1</td>\n",
       "    </tr>\n",
       "    <tr>\n",
       "      <th>3</th>\n",
       "      <td>5200.5</td>\n",
       "      <td>241.25</td>\n",
       "      <td>234.42</td>\n",
       "      <td>1321.0</td>\n",
       "      <td>14614.0</td>\n",
       "      <td>416.30</td>\n",
       "      <td>2485.2</td>\n",
       "      <td>767.8</td>\n",
       "      <td>41.155</td>\n",
       "      <td>1</td>\n",
       "    </tr>\n",
       "    <tr>\n",
       "      <th>4</th>\n",
       "      <td>5204.5</td>\n",
       "      <td>241.19</td>\n",
       "      <td>234.60</td>\n",
       "      <td>1321.4</td>\n",
       "      <td>14620.0</td>\n",
       "      <td>416.00</td>\n",
       "      <td>2484.2</td>\n",
       "      <td>766.4</td>\n",
       "      <td>41.150</td>\n",
       "      <td>1</td>\n",
       "    </tr>\n",
       "    <tr>\n",
       "      <th>5</th>\n",
       "      <td>5213.5</td>\n",
       "      <td>241.10</td>\n",
       "      <td>234.84</td>\n",
       "      <td>1320.4</td>\n",
       "      <td>14652.0</td>\n",
       "      <td>416.60</td>\n",
       "      <td>2481.6</td>\n",
       "      <td>768.6</td>\n",
       "      <td>41.185</td>\n",
       "      <td>0</td>\n",
       "    </tr>\n",
       "  </tbody>\n",
       "</table>\n",
       "</div>"
      ],
      "text/plain": [
       "     LKOH    SBER    GAZP    NVTK     GMKN    ROSN    YNDX   TATN   SNGSP  \\\n",
       "1  5194.5  241.11  234.15  1308.4  14600.0  415.85  2483.4  765.6  41.165   \n",
       "2  5199.0  241.20  234.42  1312.6  14590.0  416.45  2482.8  767.8  41.150   \n",
       "3  5200.5  241.25  234.42  1321.0  14614.0  416.30  2485.2  767.8  41.155   \n",
       "4  5204.5  241.19  234.60  1321.4  14620.0  416.00  2484.2  766.4  41.150   \n",
       "5  5213.5  241.10  234.84  1320.4  14652.0  416.60  2481.6  768.6  41.185   \n",
       "\n",
       "   MOEX_1  \n",
       "1       1  \n",
       "2       1  \n",
       "3       1  \n",
       "4       1  \n",
       "5       0  "
      ]
     },
     "execution_count": 2,
     "metadata": {},
     "output_type": "execute_result"
    }
   ],
   "source": [
    "# In this part used shares which total weight amount more what 70% of index IMOEX\n",
    "# GAZP (17,68%), LKOH (30,59%), SBER (44,79%), NVTK (50,61%), GMKN (56,56%), ROSN (61,09), YNDX (64,31%), TATN (68,46), SNGSP (70,6%)\n",
    "data = read('https://raw.githubusercontent.com/Aurilino/Python/master/Decision%20Tree%20IMOEX/Index_min_large.txt')\n",
    "data.index = range(len(data))\n",
    "data['MOEX_1'] = data.MOEX.shift(-1) # let's try to predict one step forward\n",
    "data['MOEX_1'] = DF(data['MOEX_1']).apply(lambda x: np.log(x) - np.log(x).shift(1))\n",
    "data.dropna(inplace=True)\n",
    "data['MOEX_1'] = data['MOEX_1'].apply(lambda x: 1 if x > 0 else 0)\n",
    "data = data.drop(['Time', 'MOEX'], axis=1)\n",
    "data.head()"
   ]
  },
  {
   "cell_type": "markdown",
   "metadata": {},
   "source": [
    "## Let's look at the results with different length of the calculation window"
   ]
  },
  {
   "cell_type": "code",
   "execution_count": 3,
   "metadata": {},
   "outputs": [
    {
     "name": "stdout",
     "output_type": "stream",
     "text": [
      "Share of coincidence: 49.72%\n",
      "Share of coincidence: 54.05%\n",
      "Share of coincidence: 52.38%\n",
      "Share of coincidence: 50.61%\n",
      "Share of coincidence: 52.85%\n",
      "Share of coincidence: 51.63%\n",
      "Share of coincidence: 51.35%\n",
      "Share of coincidence: 48.25%\n",
      "Share of coincidence: 51.09%\n",
      "Share of coincidence: 51.13%\n",
      "Share of coincidence: 54.69%\n",
      "Share of coincidence: 55.28%\n",
      "Share of coincidence: 55.08%\n",
      "Share of coincidence: 58.41%\n",
      "Share of coincidence: 59.72%\n"
     ]
    }
   ],
   "source": [
    "for step in range(10, 160, 10):\n",
    "    clf = DecisionTreeClassifier(criterion='entropy', max_depth=5)\n",
    "    start = 0\n",
    "    finish = start + step\n",
    "    result = []\n",
    "    fact = []\n",
    "    while finish <= len(data)-3:\n",
    "        train = data.iloc[start:finish, :]\n",
    "        x = train.drop('MOEX_1', axis=1)\n",
    "        y = train.MOEX_1\n",
    "        clf.fit(x, y)\n",
    "        x_test = data.iloc[finish+1:finish+2, :].drop('MOEX_1',axis=1)\n",
    "        result.append(int(clf.predict(x_test)))\n",
    "        fact.append(int(data.iloc[finish+1:finish+2, :].MOEX_1))\n",
    "        start += 1\n",
    "        finish += 1\n",
    "    ans = DF({'result': result, 'fact': fact})\n",
    "    ans['diff'] = ans['result'] == ans['fact']\n",
    "    # get share of mistakes\n",
    "    print('Share of coincidence: ', round(sum(ans['diff']) / len(ans) * 100, 2), '%',sep='')"
   ]
  },
  {
   "cell_type": "markdown",
   "metadata": {},
   "source": [
    "## Summary\n",
    "### As you can see, as the calculation window increases, the proportion of correctly predicted values increases."
   ]
  },
  {
   "cell_type": "markdown",
   "metadata": {},
   "source": [
    "## Note:\n",
    "### For more detailed verification of the strategy, you should increase the number of verification bits."
   ]
  }
 ],
 "metadata": {
  "kernelspec": {
   "display_name": "Python 3",
   "language": "python",
   "name": "python3"
  },
  "language_info": {
   "codemirror_mode": {
    "name": "ipython",
    "version": 3
   },
   "file_extension": ".py",
   "mimetype": "text/x-python",
   "name": "python",
   "nbconvert_exporter": "python",
   "pygments_lexer": "ipython3",
   "version": "3.7.2"
  }
 },
 "nbformat": 4,
 "nbformat_minor": 2
}
