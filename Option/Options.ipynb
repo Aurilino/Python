{
 "cells": [
  {
   "cell_type": "markdown",
   "metadata": {},
   "source": [
    "## Options \n",
    "##### 28.02.19"
   ]
  },
  {
   "cell_type": "code",
   "execution_count": 4,
   "metadata": {},
   "outputs": [],
   "source": [
    "import numpy as np\n",
    "import pandas as pd\n",
    "from scipy import stats\n",
    "from datetime import datetime,timedelta\n",
    "import networkx as nx\n",
    "import matplotlib.pyplot as plt\n",
    "%matplotlib inline \n",
    "import math\n",
    "import warnings\n",
    "from mibian import BS"
   ]
  },
  {
   "cell_type": "code",
   "execution_count": 5,
   "metadata": {},
   "outputs": [],
   "source": [
    "cboe_options = pd.read_csv('UnderlyingOptionsEODCalcs_2019-02-04.csv', parse_dates = True)\n",
    "cboe_options['expiration'] = cboe_options['expiration'].apply(lambda x: datetime.strptime(x, '%Y-%m-%d')) # Экспирация\n",
    "cboe_options['quote_date'] = cboe_options['quote_date'].apply(lambda x: datetime.strptime(x, '%Y-%m-%d')) # текущая дата\n",
    "xom = pd.read_csv('XOM.csv')\n",
    "xom['Date'] = xom['Date'].apply(lambda x: datetime.strptime(x, '%Y-%m-%d'))"
   ]
  },
  {
   "cell_type": "markdown",
   "metadata": {},
   "source": [
    "## Option analysis"
   ]
  },
  {
   "cell_type": "code",
   "execution_count": 6,
   "metadata": {},
   "outputs": [
    {
     "name": "stdout",
     "output_type": "stream",
     "text": [
      "The spot price on the settlement date: $74.82\n"
     ]
    }
   ],
   "source": [
    "date = '2019-02-04'\n",
    "quote_date = datetime.strptime(date, '%Y-%m-%d')\n",
    "expiration_date = '2019-02-15'\n",
    "expiration_date = datetime.strptime(expiration_date, '%Y-%m-%d')\n",
    "S_0 = float(xom[xom.Date == quote_date]['Close'])\n",
    "print('The spot price on the settlement date: ', '$', round(S_0, 3), sep='')"
   ]
  },
  {
   "cell_type": "code",
   "execution_count": 8,
   "metadata": {},
   "outputs": [],
   "source": [
    "days = (expiration_date-quote_date).days\n",
    "T = days / 250\n",
    "div_y = 0.0423 # continuous dividend rate\n",
    "strikes = np.array(cboe_options[(cboe_options.quote_date == quote_date) & \n",
    "                                (cboe_options.underlying_symbol=='XOM') &\n",
    "                                (cboe_options.expiration==expiration_date)]['strike'].unique())\n",
    "# strike ATM \n",
    "index_ATM = np.argmin(np.abs(strikes-S_0))\n",
    "strike_range_index = 5\n",
    "index_min = max(0, index_ATM-strike_range_index)\n",
    "index_max = min(len(strikes)-1, index_ATM+strike_range_index)\n",
    "# strike list\n",
    "strikes_range = strikes[index_min: index_max]"
   ]
  },
  {
   "cell_type": "code",
   "execution_count": 9,
   "metadata": {},
   "outputs": [],
   "source": [
    "# Option Call\n",
    "cboe_XOM_call = cboe_options[(cboe_options.quote_date == quote_date) & \n",
    "                             (cboe_options.underlying_symbol == 'XOM') & \n",
    "                             (cboe_options.option_type == 'C') & \n",
    "                             (cboe_options.expiration == expiration_date) & \n",
    "                             (cboe_options.strike<=max(strikes_range)) & \n",
    "                             (cboe_options.strike >= min(strikes_range))][['strike', \n",
    "                                                                           'high',\n",
    "                                                                           'low',\n",
    "                                                                           'close',\n",
    "                                                                           'delta_1545',\n",
    "                                                                           'gamma_1545',\n",
    "                                                                           'vega_1545',\n",
    "                                                                           'implied_volatility_1545']]\n"
   ]
  },
  {
   "cell_type": "code",
   "execution_count": 10,
   "metadata": {},
   "outputs": [],
   "source": [
    "# Option Put\n",
    "cboe_XOM_put = cboe_options[(cboe_options.quote_date == quote_date) &\n",
    "                            (cboe_options.underlying_symbol == 'XOM') &\n",
    "                            (cboe_options.option_type == 'P') & \n",
    "                            (cboe_options.expiration == expiration_date) &\n",
    "                            (cboe_options.strike <= max(strikes_range)) & \n",
    "                            (cboe_options.strike >= min(strikes_range))][['strike',\n",
    "                                                                          'high',\n",
    "                                                                          'low',\n",
    "                                                                          'close',\n",
    "                                                                          'delta_1545',\n",
    "                                                                          'gamma_1545',\n",
    "                                                                          'vega_1545',\n",
    "                                                                          'implied_volatility_1545']]"
   ]
  },
  {
   "cell_type": "markdown",
   "metadata": {},
   "source": [
    "## The CRR model"
   ]
  },
  {
   "cell_type": "code",
   "execution_count": 11,
   "metadata": {},
   "outputs": [],
   "source": [
    "class CRR:\n",
    "    def __init__(self,S_0,K,r,T,N,sigma,div=0,t=0,is_call=True,is_european=True):\n",
    "        self._S_0=S_0\n",
    "        self._K=K\n",
    "        self._r=r\n",
    "        self._div=div\n",
    "        self._T=T\n",
    "        self._N=N\n",
    "        self._sigma=sigma\n",
    "        self._t=t\n",
    "        self._is_call=is_call  \n",
    "        self._is_european=is_european\n",
    "\n",
    "    def __set_up__(self):\n",
    "        self._dt=T/N\n",
    "        self._df=np.exp(-(self._r-self._div)*self._dt)\n",
    "        self._u=np.exp(self._sigma*np.sqrt(self._dt))\n",
    "        self._d=1/self._u\n",
    "        self._p=(np.exp((self._r-self._div)*self._dt)-self._d)/(self._u-self._d)\n",
    "        self._q=1-self._p\n",
    "    \n",
    "    def __path_gen__(self):\n",
    "            self._S=[np.array([self._S_0])]\n",
    "            for i in range(self._N):\n",
    "                prev=self._S[-1]\n",
    "                st=np.concatenate((prev*self._u,[prev[-1]*self._d]))\n",
    "                self._S.append(st)\n",
    "       \n",
    "    def __initialize_payoffs__(self):\n",
    "            final_state=self._S[N]\n",
    "            return np.maximum(0,(final_state-self._K)) if self._is_call else np.maximum(0,(self._K-final_state))\n",
    "        \n",
    "    def __check_early_ex__(self,i,payoffs):\n",
    "            early_payoffs=(self._S[i]-self._K) if self._is_call else (self._K-self._S[i])\n",
    "            return np.maximum(early_payoffs,payoffs)                                                                \n",
    "        \n",
    "    def __traverse_tree__(self,payoffs):                                        \n",
    "            for i in reversed(range(self._N)):\n",
    "                payoffs=(payoffs[:-1]*self._p+payoffs[1:]*self._q)*self._df\n",
    "                #print(payoffs)\n",
    "                if not self._is_european:\n",
    "                    payoffs=self.__check_early_ex__(i,payoffs)\n",
    "            return payoffs \n",
    "                       \n",
    "    def get_price(self):\n",
    "            self.__set_up__()\n",
    "            self.__path_gen__()                  \n",
    "            payoffs_init=self.__initialize_payoffs__()\n",
    "            payoffs=self.__traverse_tree__(payoffs_init)                 \n",
    "            return payoffs[0] \n",
    "    \n",
    "    def get_path(self):\n",
    "        self.__set_up__()\n",
    "        self.__path_gen__() \n",
    "        return self._S\n",
    "    \n",
    "    def get_prob(self):\n",
    "        self.__set_up__()\n",
    "        return self._p,self._q\n",
    "    \n",
    "    def get_param(self):\n",
    "        self.__set_up__()\n",
    "        return self._u,self._d"
   ]
  },
  {
   "cell_type": "markdown",
   "metadata": {},
   "source": [
    "## CRR model result"
   ]
  },
  {
   "cell_type": "code",
   "execution_count": 12,
   "metadata": {},
   "outputs": [
    {
     "data": {
      "text/plain": [
       "array([ 40. ,  45. ,  47.5,  50. ,  55. ,  60. ,  61. ,  62. ,  62.5,\n",
       "        63. ,  64. ,  65. ,  65.5,  66. ,  66.5,  67. ,  67.5,  68. ,\n",
       "        68.5,  69. ,  69.5,  70. ,  70.5,  71. ,  71.5,  72. ,  72.5,\n",
       "        73. ,  73.5,  74. ,  74.5,  75. ,  75.5,  76. ,  76.5,  77. ,\n",
       "        77.5,  78. ,  78.5,  79. ,  80. ,  81. ,  82. ,  82.5,  83. ,\n",
       "        84. ,  85. ,  87.5,  90. ,  95. , 100. , 105. , 110. , 115. ])"
      ]
     },
     "execution_count": 12,
     "metadata": {},
     "output_type": "execute_result"
    }
   ],
   "source": [
    "strikes"
   ]
  },
  {
   "cell_type": "code",
   "execution_count": 13,
   "metadata": {},
   "outputs": [
    {
     "name": "stdout",
     "output_type": "stream",
     "text": [
      "Option call price\tOption put price\tStrike\n",
      "5.3161\t\t\t0.049\t\t\t69.5\n",
      "4.8349\t\t\t0.0682\t\t\t70.0\n",
      "4.3536\t\t\t0.0873\t\t\t70.5\n",
      "3.929\t\t\t0.1631\t\t\t71.0\n",
      "3.5056\t\t\t0.2401\t\t\t71.5\n",
      "3.0822\t\t\t0.317\t\t\t72.0\n",
      "2.6588\t\t\t0.394\t\t\t72.5\n",
      "2.3179\t\t\t0.5534\t\t\t73.0\n",
      "2.0069\t\t\t0.7428\t\t\t73.5\n",
      "1.6959\t\t\t0.9322\t\t\t74.0\n",
      "1.3849\t\t\t1.1216\t\t\t74.5\n",
      "1.1232\t\t\t1.3603\t\t\t75.0\n",
      "0.9489\t\t\t1.6864\t\t\t75.5\n",
      "0.7746\t\t\t2.0125\t\t\t76.0\n",
      "0.6004\t\t\t2.3386\t\t\t76.5\n",
      "0.4261\t\t\t2.6647\t\t\t77.0\n",
      "0.3427\t\t\t3.0818\t\t\t77.5\n",
      "0.2749\t\t\t3.5143\t\t\t78.0\n",
      "0.207\t\t\t3.9468\t\t\t78.5\n",
      "0.1391\t\t\t4.3793\t\t\t79.0\n",
      "0.0662\t\t\t5.3071\t\t\t80.0\n"
     ]
    }
   ],
   "source": [
    "r = 0.025 # rate\n",
    "N = 8 # step\n",
    "sigma = 0.2\n",
    "print('Option call price', 'Option put price', 'Strike', sep='\\t')\n",
    "for i in range(20, 41):\n",
    "    K = strikes[i]\n",
    "    option_call = CRR(S_0, K, r, T, N, sigma, is_call = True, div = div_y, is_european=True) # Call\n",
    "    option_put = CRR(S_0, K, r, T, N, sigma, is_call = False, div = div_y, is_european=True) # Put\n",
    "    print(round(option_call.get_price(), 4), round(option_put.get_price(), 4), K, sep='\\t\\t\\t')    "
   ]
  },
  {
   "cell_type": "code",
   "execution_count": 15,
   "metadata": {},
   "outputs": [],
   "source": [
    "# Look at the binomial tree call option for strike 75\n",
    "\n",
    "K = 75 \n",
    "r = 0.025\n",
    "N = 8 \n",
    "sigma = 0.2\n",
    "option_call = CRR(S_0, K, r, T, N, sigma, is_call = True, div = div_y, is_european=True)\n",
    "S = option_call.get_path()# биномиальное дерево"
   ]
  },
  {
   "cell_type": "code",
   "execution_count": 18,
   "metadata": {},
   "outputs": [
    {
     "name": "stdout",
     "output_type": "stream",
     "text": [
      "Option call price\tOption put price\tSigma\n",
      "0.5168\t\t\t0.7539\t\t\t0.1\n",
      "0.6379\t\t\t0.875\t\t\t0.12\n",
      "0.7591\t\t\t0.9962\t\t\t0.14\n",
      "0.8804\t\t\t1.1175\t\t\t0.16\n",
      "0.9411\t\t\t1.1782\t\t\t0.17\n",
      "1.0018\t\t\t1.2389\t\t\t0.18\n",
      "1.0625\t\t\t1.2996\t\t\t0.19\n",
      "1.1232\t\t\t1.3603\t\t\t0.2\n",
      "1.1839\t\t\t1.421\t\t\t0.21\n",
      "1.2446\t\t\t1.4817\t\t\t0.22\n",
      "1.3053\t\t\t1.5424\t\t\t0.23\n",
      "1.366\t\t\t1.6031\t\t\t0.24\n",
      "1.4874\t\t\t1.7245\t\t\t0.26\n",
      "1.6089\t\t\t1.846\t\t\t0.28\n",
      "1.7303\t\t\t1.9674\t\t\t0.3\n"
     ]
    }
   ],
   "source": [
    "# The dependence of the option value on the standard deviation of the asset\n",
    "\n",
    "r = 0.025 \n",
    "N = 8 \n",
    "K = 75\n",
    "sigma_temp = 0.2 \n",
    "print('Option call price', 'Option put price', 'Sigma', sep='\\t')\n",
    "for i in [.5, .6, .7, .8, .85, .9, .95, 1.0, 1.05, 1.1, 1.15, 1.2, 1.3, 1.4, 1.5]:\n",
    "    sigma = sigma_temp * i\n",
    "    option_call = CRR(S_0, K, r, T, N, sigma, is_call = True, div = div_y, is_european=True) # Call\n",
    "    option_put = CRR(S_0, K, r, T, N, sigma, is_call = False, div = div_y, is_european=True) # Put\n",
    "    print(round(option_call.get_price(), 4), round(option_put.get_price(), 4), round(sigma, 5), sep='\\t\\t\\t')\n",
    "    sigma = sigma_temp"
   ]
  },
  {
   "cell_type": "code",
   "execution_count": 19,
   "metadata": {},
   "outputs": [],
   "source": [
    "G = nx.Graph()\n",
    "for i in range(0, N+1):\n",
    "        for j in range(1, i+2):\n",
    "            if i < N:\n",
    "                G.add_edge((i,j), (i+1,j))\n",
    "                G.add_edge((i,j), (i+1,j+1))"
   ]
  },
  {
   "cell_type": "code",
   "execution_count": 20,
   "metadata": {},
   "outputs": [
    {
     "data": {
      "image/png": "[encoded data removed]",
      "text/plain": [
       "<Figure size 720x432 with 1 Axes>"
      ]
     },
     "metadata": {
      "needs_background": "light"
     },
     "output_type": "display_data"
    }
   ],
   "source": [
    "warnings.filterwarnings('ignore')\n",
    "plt.figure(figsize = (10,6))\n",
    "posG = {}\n",
    "labels = {}\n",
    "i = 0\n",
    "for node in   G.nodes():\n",
    "        posG[node] = (node[0], N+2+node[0] - 2 * node[1])\n",
    "        i,j = node\n",
    "        labels[node] = round(S[i][j-1], 2)\n",
    "nx.draw_networkx_nodes(G,posG)\n",
    "nx.draw_networkx_edges(G,posG)\n",
    "_ = nx.draw_networkx_labels(G,posG,labels)"
   ]
  },
  {
   "cell_type": "code",
   "execution_count": 26,
   "metadata": {},
   "outputs": [
    {
     "name": "stdout",
     "output_type": "stream",
     "text": [
      "risk-neutral probabilities (0.49230002145392654, 0.5076999785460734)\n",
      "the parameters u and D (1.0224979412253854, 0.9779970791937015)\n",
      "call option Price:$1.7303\n",
      "put option Price:$1.3603\n"
     ]
    }
   ],
   "source": [
    "print('risk-neutral probabilities', option_call.get_prob())\n",
    "print('the parameters u and D', option_call.get_param())\n",
    "option_put = CRR(S_0, K, r, T, N, sigma, is_call = False, div = div_y, is_european=True)\n",
    "print ('call option Price:$', round(option_call.get_price (), 4), sep='')\n",
    "print ('put option Price:$', round(option_put.get_price (), 4), sep='')"
   ]
  },
  {
   "cell_type": "markdown",
   "metadata": {},
   "source": [
    "## Put-call parity"
   ]
  },
  {
   "cell_type": "code",
   "execution_count": 27,
   "metadata": {},
   "outputs": [
    {
     "name": "stdout",
     "output_type": "stream",
     "text": [
      "Option call: $76.6479\n",
      "Option put: $76.0411\n"
     ]
    }
   ],
   "source": [
    "print('Option call: $', round(K * np.exp(-r * (T - 0)) + option_call.get_price(), 4), sep='')\n",
    "print('Option put: $', round(np.exp(-div_y * (T-0)) * S_0 + option_put.get_price(), 4), sep='')"
   ]
  },
  {
   "cell_type": "markdown",
   "metadata": {},
   "source": [
    "## BSM model (Black Scholes Merton)"
   ]
  },
  {
   "cell_type": "code",
   "execution_count": 28,
   "metadata": {},
   "outputs": [],
   "source": [
    "class BSM:\n",
    "        def __init__(self,S_0,K,r,T,sigma,div=0,t=0,is_call=True):\n",
    "            self._S_0=S_0\n",
    "            self._K=K\n",
    "            self._r=r\n",
    "            self._div=div\n",
    "            self._T=T\n",
    "            self._sigma=sigma\n",
    "            self._t=t\n",
    "            self._is_call=is_call  \n",
    "       \n",
    "        def __d_values__(self):\n",
    "            self._d1=(np.log(self._S_0/self._K)+(self._r-self._div+0.5*self._sigma**2)*(self._T-self._t))/(self._sigma*np.sqrt(self._T-self._t))\n",
    "            self._d2=self._d1-self._sigma*np.sqrt(self._T-self._t)\n",
    "            \n",
    "        def __N_d__(self,d_value):\n",
    "            return stats.norm.cdf(d_value)\n",
    "        \n",
    "        def __price__(self):\n",
    "            return (np.exp(-self._div*\\\n",
    "            (self._T-self._t))*self._S_0*self.__N_d__(self._d1)-np.exp(-self._r*\\\n",
    "            (self._T-self._t))*self._K*self.__N_d__(self._d2)) if self._is_call \\\n",
    "            else (np.exp(-self._r*(self._T-self._t))*self._K*self.__N_d__(-self._d2)- np.exp(-self._div*\\\n",
    "            (self._T-self._t))*self._S_0*self.__N_d__(-self._d1))\n",
    "            \n",
    "        def get_price(self):\n",
    "            self.__d_values__()\n",
    "            price=self.__price__()\n",
    "            return price\n",
    "        \n",
    "        def get_delta(self):\n",
    "            self.__d_values__()\n",
    "            return self.__N_d__(self._d1) if self._is_call else  self.__N_d__(self._d1)-1\n",
    "        \n",
    "        def get_vega(self):\n",
    "            self.__d_values__()\n",
    "            return self._S_0*stats.norm.pdf(self._d1)*np.sqrt(self._T-self._t)"
   ]
  },
  {
   "cell_type": "code",
   "execution_count": 29,
   "metadata": {},
   "outputs": [
    {
     "name": "stdout",
     "output_type": "stream",
     "text": [
      "Option call price\tOption put price\tStrike\n",
      "5.3074\t\t\t0.0501\t\t\t69.5\n",
      "4.8336\t\t\t0.0757\t\t\t70.0\n",
      "4.3701\t\t\t0.1117\t\t\t70.5\n",
      "3.9196\t\t\t0.1607\t\t\t71.0\n",
      "3.4852\t\t\t0.2257\t\t\t71.5\n",
      "3.0701\t\t\t0.3101\t\t\t72.0\n",
      "2.6775\t\t\t0.4169\t\t\t72.5\n",
      "2.3102\t\t\t0.5491\t\t\t73.0\n",
      "1.9709\t\t\t0.7092\t\t\t73.5\n",
      "1.6615\t\t\t0.8993\t\t\t74.0\n",
      "1.3834\t\t\t1.1206\t\t\t74.5\n",
      "1.137\t\t\t1.3737\t\t\t75.0\n",
      "0.9221\t\t\t1.6582\t\t\t75.5\n",
      "0.7375\t\t\t1.9731\t\t\t76.0\n",
      "0.5816\t\t\t2.3167\t\t\t76.5\n",
      "0.4521\t\t\t2.6866\t\t\t77.0\n",
      "0.3463\t\t\t3.0803\t\t\t77.5\n",
      "0.2614\t\t\t3.4948\t\t\t78.0\n",
      "0.1943\t\t\t3.9272\t\t\t78.5\n",
      "0.1423\t\t\t4.3746\t\t\t79.0\n",
      "0.0729\t\t\t5.3041\t\t\t80.0\n"
     ]
    }
   ],
   "source": [
    "r = 0.025 \n",
    "N = 8\n",
    "sigma = 0.2\n",
    "print('Option call price', 'Option put price', 'Strike', sep='\\t')\n",
    "for i in range(20, 41):\n",
    "    K = strikes[i]\n",
    "    option_call = BSM( S_0, K, r, T, sigma, div=div_y, is_call=True) # Call\n",
    "    option_put = BSM(S_0, K, r, T, sigma, div = div_y, is_call = False) # Put\n",
    "    print(round(option_call.get_price(), 4), round(option_put.get_price(), 4), K, sep='\\t\\t\\t')    "
   ]
  },
  {
   "cell_type": "code",
   "execution_count": 30,
   "metadata": {},
   "outputs": [],
   "source": [
    "K = 75\n",
    "r = 0.024\n",
    "sigma = 0.2\n",
    "call = True"
   ]
  },
  {
   "cell_type": "code",
   "execution_count": 31,
   "metadata": {},
   "outputs": [
    {
     "name": "stdout",
     "output_type": "stream",
     "text": [
      "call option Price: $1.1355\n",
      "call option Delta Value 0.4778726383142978\n",
      "VEGA call option Value 6.251516702521713\n"
     ]
    }
   ],
   "source": [
    "# Расчет опциона колл\n",
    "option_call = BSM( S_0, K, r, T, sigma, div=div_y, is_call=True)\n",
    "print('call option Price: $', round(option_call.get_price(), 4), sep='')\n",
    "print('call option Delta Value', option_call.get_delta())\n",
    "print('VEGA call option Value', option_call.get_vega())"
   ]
  },
  {
   "cell_type": "code",
   "execution_count": 32,
   "metadata": {},
   "outputs": [
    {
     "name": "stdout",
     "output_type": "stream",
     "text": [
      "put option Price: $1.1355\n",
      "put option Delta Value 0.4778726383142978\n",
      "VEGA call option Value 6.251516702521713\n"
     ]
    }
   ],
   "source": [
    "# Расчет опциона пут\n",
    "option_put = BSM(S_0, K, r, T, sigma, div = div_y, is_call = False)\n",
    "print('put option Price: $', round(option_call.get_price(), 4), sep='')\n",
    "print('put option Delta Value', option_call.get_delta())\n",
    "print('VEGA call option Value', option_call.get_vega())"
   ]
  },
  {
   "cell_type": "code",
   "execution_count": 33,
   "metadata": {},
   "outputs": [
    {
     "name": "stdout",
     "output_type": "stream",
     "text": [
      "Call option; $76.0563\n",
      "Put option: $76.0563\n"
     ]
    }
   ],
   "source": [
    "print('Call option; $', round(K * np.exp(-r * (T - 0)) + option_call.get_price(), 4), sep='')\n",
    "print('Put option: $', round(np.exp(-div_y * (T-0)) * S_0 + option_put.get_price(), 4), sep='')"
   ]
  },
  {
   "cell_type": "markdown",
   "metadata": {},
   "source": [
    "## Option strategies"
   ]
  },
  {
   "cell_type": "markdown",
   "metadata": {},
   "source": [
    "### Bull spread"
   ]
  },
  {
   "cell_type": "code",
   "execution_count": 34,
   "metadata": {},
   "outputs": [],
   "source": [
    "sigma = 0.2"
   ]
  },
  {
   "cell_type": "code",
   "execution_count": 35,
   "metadata": {},
   "outputs": [],
   "source": [
    "bull_spread_setup = pd.DataFrame(zip(['Call', 'Call'], [73,77], \n",
    "                                     [CRR(S_0, 74, r, T, N, sigma, is_call = True, div=div_y, is_european=False).get_price(),\n",
    "                                      CRR(S_0, 75, r, T, N, sigma, is_call = True, div=div_y, is_european=False).get_price()],\n",
    "                                     ['Buy', 'Sell']), columns=['Type', 'Strike', 'Price', 'Buy/Sell'])"
   ]
  },
  {
   "cell_type": "code",
   "execution_count": 36,
   "metadata": {},
   "outputs": [],
   "source": [
    "bull_spread_result = pd.DataFrame(zip(range(70, 80), np.maximum(range(70, 80) - bull_spread_setup.iloc[0, 1], 0) - bull_spread_setup.iloc[0, 2],\n",
    "                                  -np.maximum((range(70, 80) -bull_spread_setup.iloc[1, 1]), 0) + bull_spread_setup.iloc[1, 2]),\n",
    "                                  columns=['Spot', 'Call1', 'Call2'])"
   ]
  },
  {
   "cell_type": "code",
   "execution_count": 37,
   "metadata": {},
   "outputs": [
    {
     "data": {
      "text/html": [
       "<div>\n",
       "<style scoped>\n",
       "    .dataframe tbody tr th:only-of-type {\n",
       "        vertical-align: middle;\n",
       "    }\n",
       "\n",
       "    .dataframe tbody tr th {\n",
       "        vertical-align: top;\n",
       "    }\n",
       "\n",
       "    .dataframe thead th {\n",
       "        text-align: right;\n",
       "    }\n",
       "</style>\n",
       "<table border=\"1\" class=\"dataframe\">\n",
       "  <thead>\n",
       "    <tr style=\"text-align: right;\">\n",
       "      <th></th>\n",
       "      <th>Spot</th>\n",
       "      <th>Call1</th>\n",
       "      <th>Call2</th>\n",
       "      <th>Result</th>\n",
       "    </tr>\n",
       "  </thead>\n",
       "  <tbody>\n",
       "    <tr>\n",
       "      <th>0</th>\n",
       "      <td>70</td>\n",
       "      <td>-1.70183</td>\n",
       "      <td>1.124386</td>\n",
       "      <td>-0.577444</td>\n",
       "    </tr>\n",
       "    <tr>\n",
       "      <th>1</th>\n",
       "      <td>71</td>\n",
       "      <td>-1.70183</td>\n",
       "      <td>1.124386</td>\n",
       "      <td>-0.577444</td>\n",
       "    </tr>\n",
       "    <tr>\n",
       "      <th>2</th>\n",
       "      <td>72</td>\n",
       "      <td>-1.70183</td>\n",
       "      <td>1.124386</td>\n",
       "      <td>-0.577444</td>\n",
       "    </tr>\n",
       "    <tr>\n",
       "      <th>3</th>\n",
       "      <td>73</td>\n",
       "      <td>-1.70183</td>\n",
       "      <td>1.124386</td>\n",
       "      <td>-0.577444</td>\n",
       "    </tr>\n",
       "    <tr>\n",
       "      <th>4</th>\n",
       "      <td>74</td>\n",
       "      <td>-0.70183</td>\n",
       "      <td>1.124386</td>\n",
       "      <td>0.422556</td>\n",
       "    </tr>\n",
       "    <tr>\n",
       "      <th>5</th>\n",
       "      <td>75</td>\n",
       "      <td>0.29817</td>\n",
       "      <td>1.124386</td>\n",
       "      <td>1.422556</td>\n",
       "    </tr>\n",
       "    <tr>\n",
       "      <th>6</th>\n",
       "      <td>76</td>\n",
       "      <td>1.29817</td>\n",
       "      <td>1.124386</td>\n",
       "      <td>2.422556</td>\n",
       "    </tr>\n",
       "    <tr>\n",
       "      <th>7</th>\n",
       "      <td>77</td>\n",
       "      <td>2.29817</td>\n",
       "      <td>1.124386</td>\n",
       "      <td>3.422556</td>\n",
       "    </tr>\n",
       "    <tr>\n",
       "      <th>8</th>\n",
       "      <td>78</td>\n",
       "      <td>3.29817</td>\n",
       "      <td>0.124386</td>\n",
       "      <td>3.422556</td>\n",
       "    </tr>\n",
       "    <tr>\n",
       "      <th>9</th>\n",
       "      <td>79</td>\n",
       "      <td>4.29817</td>\n",
       "      <td>-0.875614</td>\n",
       "      <td>3.422556</td>\n",
       "    </tr>\n",
       "  </tbody>\n",
       "</table>\n",
       "</div>"
      ],
      "text/plain": [
       "   Spot    Call1     Call2    Result\n",
       "0    70 -1.70183  1.124386 -0.577444\n",
       "1    71 -1.70183  1.124386 -0.577444\n",
       "2    72 -1.70183  1.124386 -0.577444\n",
       "3    73 -1.70183  1.124386 -0.577444\n",
       "4    74 -0.70183  1.124386  0.422556\n",
       "5    75  0.29817  1.124386  1.422556\n",
       "6    76  1.29817  1.124386  2.422556\n",
       "7    77  2.29817  1.124386  3.422556\n",
       "8    78  3.29817  0.124386  3.422556\n",
       "9    79  4.29817 -0.875614  3.422556"
      ]
     },
     "execution_count": 37,
     "metadata": {},
     "output_type": "execute_result"
    }
   ],
   "source": [
    "bull_spread_result['Result'] = bull_spread_result['Call1'] + bull_spread_result['Call2']\n",
    "bull_spread_result"
   ]
  },
  {
   "cell_type": "code",
   "execution_count": 38,
   "metadata": {},
   "outputs": [
    {
     "data": {
      "image/png": "[encoded data removed]",
      "text/plain": [
       "<Figure size 720x432 with 1 Axes>"
      ]
     },
     "metadata": {
      "needs_background": "light"
     },
     "output_type": "display_data"
    }
   ],
   "source": [
    "plt.figure(figsize = (10, 6))\n",
    "plt.plot(bull_spread_result.Spot,bull_spread_result.Result)\n",
    "ax = plt.gca()\n",
    "ax.spines['left'].set_position('center')\n",
    "ax.spines['right'].set_color('none')\n",
    "ax.spines['bottom'].set_position('center')\n",
    "ax.spines['top'].set_color('none')\n",
    "ax.xaxis.set_ticks_position('bottom')\n",
    "ax.yaxis.set_ticks_position('left')\n",
    "ax.yaxis.set_ticks_position('left')\n",
    "_=plt.title('Bull spread',fontsize=18)"
   ]
  },
  {
   "cell_type": "markdown",
   "metadata": {},
   "source": [
    "### Long straddle"
   ]
  },
  {
   "cell_type": "code",
   "execution_count": 39,
   "metadata": {},
   "outputs": [],
   "source": [
    "long_straddle_setup = pd.DataFrame(zip(['Call', 'Put'],\n",
    "                                       [75, 75],\n",
    "                                       [CRR(S_0, 75, r, T, N, sigma, is_call = True, div = div_y, is_european = False).get_price(),\n",
    "                                        CRR(S_0, 75, r, T, N, sigma, is_call = False, div = div_y, is_european = False).get_price()],\n",
    "                                       ['Buy', 'Buy']),\n",
    "                                       columns=['Type', 'Strike', 'Price', 'Buy/Sell'])"
   ]
  },
  {
   "cell_type": "code",
   "execution_count": 40,
   "metadata": {},
   "outputs": [],
   "source": [
    "long_straddle_result = pd.DataFrame(zip(range(73, 77), \n",
    "                                        np.maximum(range(73, 77) - long_straddle_setup.iloc[0, 1], 0)\n",
    "                                        -long_straddle_setup.iloc[0, 2],\n",
    "                                        np.maximum(long_straddle_setup.iloc[1, 1] - (range(73, 77)), 0)\n",
    "                                        -long_straddle_setup.iloc[1, 2]),\n",
    "                                        columns=['Spot','Call','Put'])"
   ]
  },
  {
   "cell_type": "code",
   "execution_count": 41,
   "metadata": {},
   "outputs": [],
   "source": [
    "long_straddle_result['Result'] = long_straddle_result['Call'] + long_straddle_result['Put']"
   ]
  },
  {
   "cell_type": "code",
   "execution_count": 42,
   "metadata": {},
   "outputs": [
    {
     "data": {
      "text/html": [
       "<div>\n",
       "<style scoped>\n",
       "    .dataframe tbody tr th:only-of-type {\n",
       "        vertical-align: middle;\n",
       "    }\n",
       "\n",
       "    .dataframe tbody tr th {\n",
       "        vertical-align: top;\n",
       "    }\n",
       "\n",
       "    .dataframe thead th {\n",
       "        text-align: right;\n",
       "    }\n",
       "</style>\n",
       "<table border=\"1\" class=\"dataframe\">\n",
       "  <thead>\n",
       "    <tr style=\"text-align: right;\">\n",
       "      <th></th>\n",
       "      <th>Spot</th>\n",
       "      <th>Call</th>\n",
       "      <th>Put</th>\n",
       "      <th>Result</th>\n",
       "    </tr>\n",
       "  </thead>\n",
       "  <tbody>\n",
       "    <tr>\n",
       "      <th>0</th>\n",
       "      <td>73</td>\n",
       "      <td>-1.124386</td>\n",
       "      <td>0.637963</td>\n",
       "      <td>-0.486424</td>\n",
       "    </tr>\n",
       "    <tr>\n",
       "      <th>1</th>\n",
       "      <td>74</td>\n",
       "      <td>-1.124386</td>\n",
       "      <td>-0.362037</td>\n",
       "      <td>-1.486424</td>\n",
       "    </tr>\n",
       "    <tr>\n",
       "      <th>2</th>\n",
       "      <td>75</td>\n",
       "      <td>-1.124386</td>\n",
       "      <td>-1.362037</td>\n",
       "      <td>-2.486424</td>\n",
       "    </tr>\n",
       "    <tr>\n",
       "      <th>3</th>\n",
       "      <td>76</td>\n",
       "      <td>-0.124386</td>\n",
       "      <td>-1.362037</td>\n",
       "      <td>-1.486424</td>\n",
       "    </tr>\n",
       "  </tbody>\n",
       "</table>\n",
       "</div>"
      ],
      "text/plain": [
       "   Spot      Call       Put    Result\n",
       "0    73 -1.124386  0.637963 -0.486424\n",
       "1    74 -1.124386 -0.362037 -1.486424\n",
       "2    75 -1.124386 -1.362037 -2.486424\n",
       "3    76 -0.124386 -1.362037 -1.486424"
      ]
     },
     "execution_count": 42,
     "metadata": {},
     "output_type": "execute_result"
    }
   ],
   "source": [
    "long_straddle_result"
   ]
  },
  {
   "cell_type": "code",
   "execution_count": 43,
   "metadata": {},
   "outputs": [
    {
     "data": {
      "image/png": "[encoded data removed]",
      "text/plain": [
       "<Figure size 720x432 with 1 Axes>"
      ]
     },
     "metadata": {
      "needs_background": "light"
     },
     "output_type": "display_data"
    }
   ],
   "source": [
    "fig=plt.figure(figsize=(10,6))\n",
    "plt.plot(long_straddle_result.Spot,long_straddle_result.Result)\n",
    "ax=plt.gca()\n",
    "ax.spines['left'].set_position('center')\n",
    "ax.spines['right'].set_color('none')\n",
    "ax.spines['bottom'].set_position('center')\n",
    "ax.spines['top'].set_color('none')\n",
    "ax.xaxis.set_ticks_position('bottom')\n",
    "ax.yaxis.set_ticks_position('left')\n",
    "_=plt.title('Long Straddle',fontsize=18)"
   ]
  },
  {
   "cell_type": "markdown",
   "metadata": {},
   "source": [
    "## Comparison of theoretical and market prices"
   ]
  },
  {
   "cell_type": "code",
   "execution_count": 44,
   "metadata": {},
   "outputs": [],
   "source": [
    "N=100 # modell CRR step"
   ]
  },
  {
   "cell_type": "markdown",
   "metadata": {},
   "source": [
    "# Call"
   ]
  },
  {
   "cell_type": "code",
   "execution_count": 45,
   "metadata": {},
   "outputs": [],
   "source": [
    "cboe_XOM_call['American_div_Bin'] = cboe_XOM_call.apply(lambda row: np.round(\n",
    "    CRR(S_0, row['strike'], r, T, N, row['vega_1545'], \n",
    "        is_call=True, div=div_y, \n",
    "        is_european = False).get_price(), 2), axis = 1)\n",
    "cboe_XOM_call['European_div_Bin'] = cboe_XOM_call.apply(lambda row: np.round(\n",
    "    CRR(S_0, row['strike'], r, T, N, row['vega_1545'], \n",
    "        is_call = True, div = div_y, \n",
    "        is_european = True).get_price(), 2), axis = 1)\n",
    "cboe_XOM_call['BSM_div'] = cboe_XOM_call.apply(\n",
    "    lambda row: np.round(BSM(S_0, row['strike'], r, T, row['vega_1545'],\n",
    "                             is_call = True).get_price(), 2), axis = 1)"
   ]
  },
  {
   "cell_type": "markdown",
   "metadata": {},
   "source": [
    "## Put"
   ]
  },
  {
   "cell_type": "code",
   "execution_count": 46,
   "metadata": {},
   "outputs": [],
   "source": [
    "cboe_XOM_put['American_div_Bin'] = cboe_XOM_put.apply(\n",
    "    lambda row: np.round(\n",
    "        CRR(S_0, row['strike'], r, T, N, row['vega_1545'], is_call = False, div=div_y,is_european=False)\n",
    "        .get_price(), 2), axis = 1)\n",
    "cboe_XOM_put['European_div_Bin'] = cboe_XOM_put.apply(\n",
    "    lambda row: np.round(\n",
    "        CRR(S_0,row['strike'], r, T, N, row['vega_1545'], is_call = False, div = div_y, is_european = True)\n",
    "        .get_price(), 2), axis = 1)\n",
    "cboe_XOM_put['BSM_div'] = cboe_XOM_put['BSM_div'] = cboe_XOM_put.apply(\n",
    "    lambda row: np.round(BSM(S_0, row['strike'], r, T, row['vega_1545'], \n",
    "                             is_call = False).get_price(), 2), axis = 1)"
   ]
  },
  {
   "cell_type": "code",
   "execution_count": 47,
   "metadata": {},
   "outputs": [
    {
     "data": {
      "text/html": [
       "<div>\n",
       "<style scoped>\n",
       "    .dataframe tbody tr th:only-of-type {\n",
       "        vertical-align: middle;\n",
       "    }\n",
       "\n",
       "    .dataframe tbody tr th {\n",
       "        vertical-align: top;\n",
       "    }\n",
       "\n",
       "    .dataframe thead th {\n",
       "        text-align: right;\n",
       "    }\n",
       "</style>\n",
       "<table border=\"1\" class=\"dataframe\">\n",
       "  <thead>\n",
       "    <tr style=\"text-align: right;\">\n",
       "      <th></th>\n",
       "      <th>strike</th>\n",
       "      <th>high</th>\n",
       "      <th>low</th>\n",
       "      <th>close</th>\n",
       "      <th>delta_1545</th>\n",
       "      <th>gamma_1545</th>\n",
       "      <th>vega_1545</th>\n",
       "      <th>implied_volatility_1545</th>\n",
       "      <th>American_div_Bin</th>\n",
       "      <th>European_div_Bin</th>\n",
       "      <th>BSM_div</th>\n",
       "    </tr>\n",
       "  </thead>\n",
       "  <tbody>\n",
       "    <tr>\n",
       "      <th>2640</th>\n",
       "      <td>72.5</td>\n",
       "      <td>2.91</td>\n",
       "      <td>2.10</td>\n",
       "      <td>2.36</td>\n",
       "      <td>0.7241</td>\n",
       "      <td>0.1100</td>\n",
       "      <td>0.0426</td>\n",
       "      <td>0.2294</td>\n",
       "      <td>2.32</td>\n",
       "      <td>2.26</td>\n",
       "      <td>2.40</td>\n",
       "    </tr>\n",
       "    <tr>\n",
       "      <th>2642</th>\n",
       "      <td>73.0</td>\n",
       "      <td>2.15</td>\n",
       "      <td>1.80</td>\n",
       "      <td>1.80</td>\n",
       "      <td>0.6797</td>\n",
       "      <td>0.1305</td>\n",
       "      <td>0.0458</td>\n",
       "      <td>0.2076</td>\n",
       "      <td>1.82</td>\n",
       "      <td>1.76</td>\n",
       "      <td>1.90</td>\n",
       "    </tr>\n",
       "    <tr>\n",
       "      <th>2644</th>\n",
       "      <td>73.5</td>\n",
       "      <td>1.71</td>\n",
       "      <td>1.28</td>\n",
       "      <td>1.44</td>\n",
       "      <td>0.6165</td>\n",
       "      <td>0.1484</td>\n",
       "      <td>0.0490</td>\n",
       "      <td>0.1955</td>\n",
       "      <td>1.32</td>\n",
       "      <td>1.28</td>\n",
       "      <td>1.41</td>\n",
       "    </tr>\n",
       "    <tr>\n",
       "      <th>2646</th>\n",
       "      <td>74.0</td>\n",
       "      <td>1.58</td>\n",
       "      <td>0.97</td>\n",
       "      <td>1.10</td>\n",
       "      <td>0.5410</td>\n",
       "      <td>0.1630</td>\n",
       "      <td>0.0511</td>\n",
       "      <td>0.1856</td>\n",
       "      <td>0.85</td>\n",
       "      <td>0.83</td>\n",
       "      <td>0.95</td>\n",
       "    </tr>\n",
       "    <tr>\n",
       "      <th>2648</th>\n",
       "      <td>74.5</td>\n",
       "      <td>1.53</td>\n",
       "      <td>0.68</td>\n",
       "      <td>0.81</td>\n",
       "      <td>0.4557</td>\n",
       "      <td>0.1724</td>\n",
       "      <td>0.0512</td>\n",
       "      <td>0.1756</td>\n",
       "      <td>0.47</td>\n",
       "      <td>0.47</td>\n",
       "      <td>0.56</td>\n",
       "    </tr>\n",
       "    <tr>\n",
       "      <th>2650</th>\n",
       "      <td>75.0</td>\n",
       "      <td>1.27</td>\n",
       "      <td>0.48</td>\n",
       "      <td>0.58</td>\n",
       "      <td>0.3664</td>\n",
       "      <td>0.1698</td>\n",
       "      <td>0.0487</td>\n",
       "      <td>0.1696</td>\n",
       "      <td>0.20</td>\n",
       "      <td>0.20</td>\n",
       "      <td>0.26</td>\n",
       "    </tr>\n",
       "    <tr>\n",
       "      <th>2652</th>\n",
       "      <td>75.5</td>\n",
       "      <td>0.71</td>\n",
       "      <td>0.32</td>\n",
       "      <td>0.36</td>\n",
       "      <td>0.2807</td>\n",
       "      <td>0.1562</td>\n",
       "      <td>0.0436</td>\n",
       "      <td>0.1653</td>\n",
       "      <td>0.05</td>\n",
       "      <td>0.05</td>\n",
       "      <td>0.07</td>\n",
       "    </tr>\n",
       "    <tr>\n",
       "      <th>2654</th>\n",
       "      <td>76.0</td>\n",
       "      <td>0.65</td>\n",
       "      <td>0.22</td>\n",
       "      <td>0.24</td>\n",
       "      <td>0.2054</td>\n",
       "      <td>0.1340</td>\n",
       "      <td>0.0369</td>\n",
       "      <td>0.1628</td>\n",
       "      <td>0.00</td>\n",
       "      <td>0.00</td>\n",
       "      <td>0.01</td>\n",
       "    </tr>\n",
       "    <tr>\n",
       "      <th>2656</th>\n",
       "      <td>76.5</td>\n",
       "      <td>0.60</td>\n",
       "      <td>0.15</td>\n",
       "      <td>0.15</td>\n",
       "      <td>0.1453</td>\n",
       "      <td>0.1079</td>\n",
       "      <td>0.0296</td>\n",
       "      <td>0.1623</td>\n",
       "      <td>0.00</td>\n",
       "      <td>0.00</td>\n",
       "      <td>0.00</td>\n",
       "    </tr>\n",
       "    <tr>\n",
       "      <th>2658</th>\n",
       "      <td>77.0</td>\n",
       "      <td>0.17</td>\n",
       "      <td>0.10</td>\n",
       "      <td>0.10</td>\n",
       "      <td>0.0992</td>\n",
       "      <td>0.0824</td>\n",
       "      <td>0.0226</td>\n",
       "      <td>0.1624</td>\n",
       "      <td>0.00</td>\n",
       "      <td>0.00</td>\n",
       "      <td>0.00</td>\n",
       "    </tr>\n",
       "  </tbody>\n",
       "</table>\n",
       "</div>"
      ],
      "text/plain": [
       "      strike  high   low  close  delta_1545  gamma_1545  vega_1545  \\\n",
       "2640    72.5  2.91  2.10   2.36      0.7241      0.1100     0.0426   \n",
       "2642    73.0  2.15  1.80   1.80      0.6797      0.1305     0.0458   \n",
       "2644    73.5  1.71  1.28   1.44      0.6165      0.1484     0.0490   \n",
       "2646    74.0  1.58  0.97   1.10      0.5410      0.1630     0.0511   \n",
       "2648    74.5  1.53  0.68   0.81      0.4557      0.1724     0.0512   \n",
       "2650    75.0  1.27  0.48   0.58      0.3664      0.1698     0.0487   \n",
       "2652    75.5  0.71  0.32   0.36      0.2807      0.1562     0.0436   \n",
       "2654    76.0  0.65  0.22   0.24      0.2054      0.1340     0.0369   \n",
       "2656    76.5  0.60  0.15   0.15      0.1453      0.1079     0.0296   \n",
       "2658    77.0  0.17  0.10   0.10      0.0992      0.0824     0.0226   \n",
       "\n",
       "      implied_volatility_1545  American_div_Bin  European_div_Bin  BSM_div  \n",
       "2640                   0.2294              2.32              2.26     2.40  \n",
       "2642                   0.2076              1.82              1.76     1.90  \n",
       "2644                   0.1955              1.32              1.28     1.41  \n",
       "2646                   0.1856              0.85              0.83     0.95  \n",
       "2648                   0.1756              0.47              0.47     0.56  \n",
       "2650                   0.1696              0.20              0.20     0.26  \n",
       "2652                   0.1653              0.05              0.05     0.07  \n",
       "2654                   0.1628              0.00              0.00     0.01  \n",
       "2656                   0.1623              0.00              0.00     0.00  \n",
       "2658                   0.1624              0.00              0.00     0.00  "
      ]
     },
     "execution_count": 47,
     "metadata": {},
     "output_type": "execute_result"
    }
   ],
   "source": [
    "cboe_XOM_call.head(10)"
   ]
  },
  {
   "cell_type": "code",
   "execution_count": 48,
   "metadata": {},
   "outputs": [
    {
     "data": {
      "text/html": [
       "<div>\n",
       "<style scoped>\n",
       "    .dataframe tbody tr th:only-of-type {\n",
       "        vertical-align: middle;\n",
       "    }\n",
       "\n",
       "    .dataframe tbody tr th {\n",
       "        vertical-align: top;\n",
       "    }\n",
       "\n",
       "    .dataframe thead th {\n",
       "        text-align: right;\n",
       "    }\n",
       "</style>\n",
       "<table border=\"1\" class=\"dataframe\">\n",
       "  <thead>\n",
       "    <tr style=\"text-align: right;\">\n",
       "      <th></th>\n",
       "      <th>strike</th>\n",
       "      <th>high</th>\n",
       "      <th>low</th>\n",
       "      <th>close</th>\n",
       "      <th>delta_1545</th>\n",
       "      <th>gamma_1545</th>\n",
       "      <th>vega_1545</th>\n",
       "      <th>implied_volatility_1545</th>\n",
       "      <th>American_div_Bin</th>\n",
       "      <th>European_div_Bin</th>\n",
       "      <th>BSM_div</th>\n",
       "    </tr>\n",
       "  </thead>\n",
       "  <tbody>\n",
       "    <tr>\n",
       "      <th>2641</th>\n",
       "      <td>72.5</td>\n",
       "      <td>0.56</td>\n",
       "      <td>0.27</td>\n",
       "      <td>0.40</td>\n",
       "      <td>-0.2478</td>\n",
       "      <td>0.1171</td>\n",
       "      <td>0.0410</td>\n",
       "      <td>0.2069</td>\n",
       "      <td>0.00</td>\n",
       "      <td>0.00</td>\n",
       "      <td>0.00</td>\n",
       "    </tr>\n",
       "    <tr>\n",
       "      <th>2643</th>\n",
       "      <td>73.0</td>\n",
       "      <td>0.66</td>\n",
       "      <td>0.53</td>\n",
       "      <td>0.53</td>\n",
       "      <td>-0.3088</td>\n",
       "      <td>0.1327</td>\n",
       "      <td>0.0456</td>\n",
       "      <td>0.2033</td>\n",
       "      <td>0.00</td>\n",
       "      <td>0.00</td>\n",
       "      <td>0.00</td>\n",
       "    </tr>\n",
       "    <tr>\n",
       "      <th>2645</th>\n",
       "      <td>73.5</td>\n",
       "      <td>0.91</td>\n",
       "      <td>0.72</td>\n",
       "      <td>0.72</td>\n",
       "      <td>-0.3785</td>\n",
       "      <td>0.1445</td>\n",
       "      <td>0.0492</td>\n",
       "      <td>0.2013</td>\n",
       "      <td>0.02</td>\n",
       "      <td>0.02</td>\n",
       "      <td>0.01</td>\n",
       "    </tr>\n",
       "    <tr>\n",
       "      <th>2647</th>\n",
       "      <td>74.0</td>\n",
       "      <td>1.15</td>\n",
       "      <td>0.88</td>\n",
       "      <td>0.90</td>\n",
       "      <td>-0.4532</td>\n",
       "      <td>0.1512</td>\n",
       "      <td>0.0511</td>\n",
       "      <td>0.2001</td>\n",
       "      <td>0.07</td>\n",
       "      <td>0.07</td>\n",
       "      <td>0.05</td>\n",
       "    </tr>\n",
       "    <tr>\n",
       "      <th>2649</th>\n",
       "      <td>74.5</td>\n",
       "      <td>1.39</td>\n",
       "      <td>1.16</td>\n",
       "      <td>1.19</td>\n",
       "      <td>-0.5295</td>\n",
       "      <td>0.1508</td>\n",
       "      <td>0.0513</td>\n",
       "      <td>0.2012</td>\n",
       "      <td>0.21</td>\n",
       "      <td>0.21</td>\n",
       "      <td>0.16</td>\n",
       "    </tr>\n",
       "    <tr>\n",
       "      <th>2651</th>\n",
       "      <td>75.0</td>\n",
       "      <td>1.75</td>\n",
       "      <td>1.36</td>\n",
       "      <td>1.45</td>\n",
       "      <td>-0.6029</td>\n",
       "      <td>0.1446</td>\n",
       "      <td>0.0496</td>\n",
       "      <td>0.2027</td>\n",
       "      <td>0.45</td>\n",
       "      <td>0.45</td>\n",
       "      <td>0.36</td>\n",
       "    </tr>\n",
       "    <tr>\n",
       "      <th>2653</th>\n",
       "      <td>75.5</td>\n",
       "      <td>2.11</td>\n",
       "      <td>1.49</td>\n",
       "      <td>1.90</td>\n",
       "      <td>-0.6685</td>\n",
       "      <td>0.1325</td>\n",
       "      <td>0.0465</td>\n",
       "      <td>0.2075</td>\n",
       "      <td>0.80</td>\n",
       "      <td>0.80</td>\n",
       "      <td>0.69</td>\n",
       "    </tr>\n",
       "    <tr>\n",
       "      <th>2655</th>\n",
       "      <td>76.0</td>\n",
       "      <td>2.40</td>\n",
       "      <td>2.18</td>\n",
       "      <td>2.29</td>\n",
       "      <td>-0.7258</td>\n",
       "      <td>0.1184</td>\n",
       "      <td>0.0425</td>\n",
       "      <td>0.2124</td>\n",
       "      <td>1.25</td>\n",
       "      <td>1.25</td>\n",
       "      <td>1.11</td>\n",
       "    </tr>\n",
       "    <tr>\n",
       "      <th>2657</th>\n",
       "      <td>76.5</td>\n",
       "      <td>0.00</td>\n",
       "      <td>0.00</td>\n",
       "      <td>0.00</td>\n",
       "      <td>-0.7664</td>\n",
       "      <td>0.1021</td>\n",
       "      <td>0.0389</td>\n",
       "      <td>0.2254</td>\n",
       "      <td>1.74</td>\n",
       "      <td>1.74</td>\n",
       "      <td>1.60</td>\n",
       "    </tr>\n",
       "    <tr>\n",
       "      <th>2659</th>\n",
       "      <td>77.0</td>\n",
       "      <td>3.30</td>\n",
       "      <td>2.80</td>\n",
       "      <td>3.30</td>\n",
       "      <td>-0.7958</td>\n",
       "      <td>0.0878</td>\n",
       "      <td>0.0359</td>\n",
       "      <td>0.2416</td>\n",
       "      <td>2.24</td>\n",
       "      <td>2.24</td>\n",
       "      <td>2.10</td>\n",
       "    </tr>\n",
       "  </tbody>\n",
       "</table>\n",
       "</div>"
      ],
      "text/plain": [
       "      strike  high   low  close  delta_1545  gamma_1545  vega_1545  \\\n",
       "2641    72.5  0.56  0.27   0.40     -0.2478      0.1171     0.0410   \n",
       "2643    73.0  0.66  0.53   0.53     -0.3088      0.1327     0.0456   \n",
       "2645    73.5  0.91  0.72   0.72     -0.3785      0.1445     0.0492   \n",
       "2647    74.0  1.15  0.88   0.90     -0.4532      0.1512     0.0511   \n",
       "2649    74.5  1.39  1.16   1.19     -0.5295      0.1508     0.0513   \n",
       "2651    75.0  1.75  1.36   1.45     -0.6029      0.1446     0.0496   \n",
       "2653    75.5  2.11  1.49   1.90     -0.6685      0.1325     0.0465   \n",
       "2655    76.0  2.40  2.18   2.29     -0.7258      0.1184     0.0425   \n",
       "2657    76.5  0.00  0.00   0.00     -0.7664      0.1021     0.0389   \n",
       "2659    77.0  3.30  2.80   3.30     -0.7958      0.0878     0.0359   \n",
       "\n",
       "      implied_volatility_1545  American_div_Bin  European_div_Bin  BSM_div  \n",
       "2641                   0.2069              0.00              0.00     0.00  \n",
       "2643                   0.2033              0.00              0.00     0.00  \n",
       "2645                   0.2013              0.02              0.02     0.01  \n",
       "2647                   0.2001              0.07              0.07     0.05  \n",
       "2649                   0.2012              0.21              0.21     0.16  \n",
       "2651                   0.2027              0.45              0.45     0.36  \n",
       "2653                   0.2075              0.80              0.80     0.69  \n",
       "2655                   0.2124              1.25              1.25     1.11  \n",
       "2657                   0.2254              1.74              1.74     1.60  \n",
       "2659                   0.2416              2.24              2.24     2.10  "
      ]
     },
     "execution_count": 48,
     "metadata": {},
     "output_type": "execute_result"
    }
   ],
   "source": [
    "cboe_XOM_put.head(10)"
   ]
  },
  {
   "cell_type": "markdown",
   "metadata": {},
   "source": [
    "## Sensitivity index Δ\n",
    "#### Delta - hedging. Calculation of indicators s Δ is given in the lecture materials.\n",
    "### $C=\\Delta S-B$\n",
    "### $P=\\Delta S+B$\n",
    "#### At each step we rebalancer portfolio taking into account equality:\n",
    "### $dP=\\Delta dS$ (for a call option the calculation is the same)\n",
    "#### Rebalancing takes into account interest on a cash position\n",
    "##### In this task we will model the dynamics of the asset using geometric Brownian motion\n",
    "### $S_{i+1}=S_i exp((r-0.5\\sigma^2)\\Delta_t+\\sigma\\sqrt{\\Delta_t}Z_t)$"
   ]
  },
  {
   "cell_type": "code",
   "execution_count": 49,
   "metadata": {},
   "outputs": [],
   "source": [
    "def GBM(n_step,S_0,r,sigma,dt):\n",
    "    S=np.zeros(n_step)\n",
    "    S[0]=S_0\n",
    "    rand=np.random.standard_normal(n_step)\n",
    "    for i in range(1,n_step):\n",
    "        S[i]=S[i-1]*np.exp((r-0.5*sigma**2)*dt+sigma*np.sqrt(dt)*rand[i])\n",
    "    return S    "
   ]
  },
  {
   "cell_type": "markdown",
   "metadata": {},
   "source": [
    "## We implement a step-by-step process of option replication (creating a portfolio that reproduces the option price)"
   ]
  },
  {
   "cell_type": "code",
   "execution_count": 50,
   "metadata": {},
   "outputs": [],
   "source": [
    "r = 0.0024\n",
    "T = 30/250\n",
    "sigma=sigma = 0.2 \n",
    "n_step = int(T*250)\n",
    "dt = 1/250\n",
    "S = np.zeros(n_step) \n",
    "Delta = np.zeros(n_step)\n",
    "Option_theor = np.zeros(n_step)\n",
    "S_Delta = np.zeros(n_step)\n",
    "Bond = np.zeros(n_step)\n",
    "Replicate = np.zeros(n_step)"
   ]
  },
  {
   "cell_type": "markdown",
   "metadata": {},
   "source": [
    "### The calculation of the initial values of the parameters"
   ]
  },
  {
   "cell_type": "code",
   "execution_count": 51,
   "metadata": {},
   "outputs": [
    {
     "name": "stdout",
     "output_type": "stream",
     "text": [
      "Theoretical price: $1.9915\n",
      "Delta: 0.5016\n",
      "Hedge -35.5413\n"
     ]
    }
   ],
   "source": [
    "S[0] = S_0\n",
    "option=BSM(S_0,K,r,T,sigma,t=0,is_call=True)\n",
    "Option_theor[0] = option.get_price()\n",
    "Replicate[0] = Option_theor[0]\n",
    "print('Theoretical price: $', round(Option_theor[0], 4), sep='')\n",
    "Delta[0] = option.get_delta()\n",
    "S_Delta[0] = S[0]*Delta[0]\n",
    "print('Delta: ', round(Delta[0], 4), sep='')\n",
    "Bond[0] = Option_theor[0]-S_Delta[0]\n",
    "print('Hedge ', round(Bond[0], 4), sep='')\n",
    "S = GBM(n_step, S_0, r, sigma, dt)"
   ]
  },
  {
   "cell_type": "code",
   "execution_count": 52,
   "metadata": {},
   "outputs": [
    {
     "data": {
      "image/png": "[encoded data removed]",
      "text/plain": [
       "<Figure size 720x432 with 1 Axes>"
      ]
     },
     "metadata": {
      "needs_background": "light"
     },
     "output_type": "display_data"
    }
   ],
   "source": [
    "plt.figure(figsize=(10,6))\n",
    "_=plt.plot(S)\n",
    "_=plt.title(u'Modeling the dynamics of the stock XOM',fontsize=18)"
   ]
  },
  {
   "cell_type": "markdown",
   "metadata": {},
   "source": [
    "## Step-by-step replication"
   ]
  },
  {
   "cell_type": "code",
   "execution_count": 53,
   "metadata": {},
   "outputs": [],
   "source": [
    "for i in range(1,n_step):\n",
    "    option=BSM(S[i],K,r,T,sigma,is_call=False,t=i/250)\n",
    "    Option_theor[i]=option.get_price()\n",
    "    Delta[i]=option.get_delta()\n",
    "    S_Delta[i]=S[i]*Delta[i]\n",
    "    Replicate[i]=Replicate[i-1]+(S[i]-S[i-1])*Delta[i-1]+Bond[i-1]*(np.exp(r/250)-1)\n",
    "    Bond[i]=Option_theor[i]-S_Delta[i]"
   ]
  },
  {
   "cell_type": "code",
   "execution_count": 54,
   "metadata": {},
   "outputs": [
    {
     "data": {
      "text/html": [
       "<div>\n",
       "<style scoped>\n",
       "    .dataframe tbody tr th:only-of-type {\n",
       "        vertical-align: middle;\n",
       "    }\n",
       "\n",
       "    .dataframe tbody tr th {\n",
       "        vertical-align: top;\n",
       "    }\n",
       "\n",
       "    .dataframe thead th {\n",
       "        text-align: right;\n",
       "    }\n",
       "</style>\n",
       "<table border=\"1\" class=\"dataframe\">\n",
       "  <thead>\n",
       "    <tr style=\"text-align: right;\">\n",
       "      <th></th>\n",
       "      <th>S</th>\n",
       "      <th>Theor_price</th>\n",
       "      <th>Replicate</th>\n",
       "      <th>Delta</th>\n",
       "      <th>Delta*Price</th>\n",
       "      <th>Bond</th>\n",
       "    </tr>\n",
       "  </thead>\n",
       "  <tbody>\n",
       "    <tr>\n",
       "      <th>0</th>\n",
       "      <td>74.820000</td>\n",
       "      <td>1.991527</td>\n",
       "      <td>1.991527</td>\n",
       "      <td>0.501642</td>\n",
       "      <td>37.532836</td>\n",
       "      <td>-35.541309</td>\n",
       "    </tr>\n",
       "    <tr>\n",
       "      <th>1</th>\n",
       "      <td>76.303027</td>\n",
       "      <td>1.460640</td>\n",
       "      <td>2.735134</td>\n",
       "      <td>-0.385522</td>\n",
       "      <td>-29.416480</td>\n",
       "      <td>30.877120</td>\n",
       "    </tr>\n",
       "    <tr>\n",
       "      <th>2</th>\n",
       "      <td>76.613082</td>\n",
       "      <td>1.310872</td>\n",
       "      <td>2.615898</td>\n",
       "      <td>-0.361142</td>\n",
       "      <td>-27.668166</td>\n",
       "      <td>28.979039</td>\n",
       "    </tr>\n",
       "    <tr>\n",
       "      <th>3</th>\n",
       "      <td>77.276413</td>\n",
       "      <td>1.054308</td>\n",
       "      <td>2.376619</td>\n",
       "      <td>-0.311455</td>\n",
       "      <td>-24.068106</td>\n",
       "      <td>25.122414</td>\n",
       "    </tr>\n",
       "    <tr>\n",
       "      <th>4</th>\n",
       "      <td>76.508375</td>\n",
       "      <td>1.279508</td>\n",
       "      <td>2.616070</td>\n",
       "      <td>-0.365106</td>\n",
       "      <td>-27.933686</td>\n",
       "      <td>29.213194</td>\n",
       "    </tr>\n",
       "  </tbody>\n",
       "</table>\n",
       "</div>"
      ],
      "text/plain": [
       "           S  Theor_price  Replicate     Delta  Delta*Price       Bond\n",
       "0  74.820000     1.991527   1.991527  0.501642    37.532836 -35.541309\n",
       "1  76.303027     1.460640   2.735134 -0.385522   -29.416480  30.877120\n",
       "2  76.613082     1.310872   2.615898 -0.361142   -27.668166  28.979039\n",
       "3  77.276413     1.054308   2.376619 -0.311455   -24.068106  25.122414\n",
       "4  76.508375     1.279508   2.616070 -0.365106   -27.933686  29.213194"
      ]
     },
     "execution_count": 54,
     "metadata": {},
     "output_type": "execute_result"
    }
   ],
   "source": [
    "pd.DataFrame(zip(S, Option_theor, Replicate, Delta, S_Delta, Bond),\n",
    "             columns = ['S', 'Theor_price', 'Replicate', 'Delta', 'Delta*Price', 'Bond']).head()"
   ]
  },
  {
   "cell_type": "markdown",
   "metadata": {},
   "source": [
    "## VEGA sensitivity indicator\n",
    "#### Calculation of vega index is given in lecture materials"
   ]
  },
  {
   "cell_type": "code",
   "execution_count": 55,
   "metadata": {},
   "outputs": [],
   "source": [
    "prices_market = np.array((cboe_XOM_call.high + cboe_XOM_call.low) / 2)"
   ]
  },
  {
   "cell_type": "markdown",
   "metadata": {},
   "source": [
    "### Finding the optimal value of the IV Newton-Raphson method\n",
    "### $\\sigma_{i+1}=\\sigma_{i}-\\frac{c(\\sigma_{i})-c_m}{Vega}$\n",
    "### For the correct implementation of the algorithm it is necessary that the market value is not less than the internal value"
   ]
  },
  {
   "cell_type": "code",
   "execution_count": 56,
   "metadata": {},
   "outputs": [],
   "source": [
    "# Newton-Raphson\n",
    "T = days / 250\n",
    "sigma_list = []\n",
    "tol = 0.001\n",
    "for  strike, price in zip(strikes_range, prices_market):\n",
    "    if (strike+price) > S_0:\n",
    "        sigma = 0.3\n",
    "        diff = 1000\n",
    "        while (diff > tol):\n",
    "            option = BSM(S_0, strike, r, T, sigma, div=div_y)\n",
    "            Price_theor = option.get_price()\n",
    "            Vega = option.get_vega()\n",
    "            sigma_prev = sigma\n",
    "            sigma = sigma_prev-(Price_theor-price) / Vega\n",
    "            diff = abs(price-Price_theor) \n",
    "        sigma_list.append((sigma, strike,Vega))     "
   ]
  },
  {
   "cell_type": "code",
   "execution_count": 57,
   "metadata": {},
   "outputs": [
    {
     "data": {
      "image/png": "[encoded data removed]",
      "text/plain": [
       "<Figure size 720x432 with 1 Axes>"
      ]
     },
     "metadata": {
      "needs_background": "light"
     },
     "output_type": "display_data"
    }
   ],
   "source": [
    "plt.figure(figsize=(10,6))\n",
    "_=plt.plot(cboe_XOM_call.strike, cboe_XOM_call.implied_volatility_1545)\n",
    "_=plt.xlabel('Strike', fontsize=18)\n",
    "_=plt.ylabel('IV', fontsize=18)\n",
    "_=plt.title('Implied Volatility',fontsize=18)"
   ]
  },
  {
   "cell_type": "markdown",
   "metadata": {},
   "source": [
    "## Summary\n",
    "#### The calculation shows that there is parity between the put and call options, while the option price itself is highly dependent on the standard deviation and the difference between the strike and the spot price.\n",
    "#### Option strategies are mainly related to the volatility of an asset. Therefore, buying or selling an option can be understood as buying and selling volatility"
   ]
  }
 ],
 "metadata": {
  "kernelspec": {
   "display_name": "Python 3",
   "language": "python",
   "name": "python3"
  },
  "language_info": {
   "codemirror_mode": {
    "name": "ipython",
    "version": 3
   },
   "file_extension": ".py",
   "mimetype": "text/x-python",
   "name": "python",
   "nbconvert_exporter": "python",
   "pygments_lexer": "ipython3",
   "version": "3.7.2"
  }
 },
 "nbformat": 4,
 "nbformat_minor": 2
}
